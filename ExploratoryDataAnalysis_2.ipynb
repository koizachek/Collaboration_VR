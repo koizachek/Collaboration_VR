{
 "cells": [
  {
   "cell_type": "markdown",
   "id": "956e682d",
   "metadata": {},
   "source": [
    "# FULL DATA / NEW DATA"
   ]
  },
  {
   "cell_type": "code",
   "execution_count": 5,
   "id": "bd01933a",
   "metadata": {},
   "outputs": [],
   "source": [
    "import pandas as pd, numpy as np, matplotlib.pyplot as plt, seaborn as sns, statistics\n",
    "\n",
    "import scipy.stats as stats\n",
    "from collections import Counter\n",
    "from scipy.stats import f_oneway, pearsonr, spearmanr, kruskal, ttest_1samp, ttest_rel, levene, skew, friedmanchisquare\n",
    "from scikit_posthocs import posthoc_conover\n",
    "\n",
    "from statsmodels.stats.stattools import durbin_watson\n",
    "from statsmodels.multivariate.manova import MANOVA\n",
    "import statsmodels.formula.api as smf\n",
    "import statsmodels.api as sm\n",
    "\n",
    "from sklearn.preprocessing import PolynomialFeatures\n",
    "from sklearn.linear_model import LinearRegression\n",
    "from sklearn.cross_decomposition import PLSRegression\n",
    "from sklearn.model_selection import train_test_split\n",
    "from sklearn.metrics import mean_squared_error, r2_score, mean_absolute_error"
   ]
  },
  {
   "cell_type": "markdown",
   "id": "c8bf70da",
   "metadata": {},
   "source": [
    "# Average Group Data"
   ]
  },
  {
   "cell_type": "code",
   "execution_count": 79,
   "id": "1da7513d",
   "metadata": {},
   "outputs": [],
   "source": [
    "# List to store the GSR data from each CSV file\n",
    "gsr_data = []\n",
    "\n",
    "# Read in the data from each CSV file and store the GSR data in the list\n",
    "for i in range(4, 7):\n",
    "    df = pd.read_csv(f\"./Normally/gsrdata_{i}.csv\")\n",
    "    gsr_data.append(df[\"Raw_GSR\"])\n",
    "\n",
    "# Calculate the average GSR value\n",
    "average_gsr = sum(gsr_data) / len(gsr_data)"
   ]
  },
  {
   "cell_type": "code",
   "execution_count": 80,
   "id": "1c841c1b",
   "metadata": {},
   "outputs": [
    {
     "data": {
      "text/plain": [
       "0      -0.006620\n",
       "1       0.659388\n",
       "2       0.674125\n",
       "3       0.677137\n",
       "4       0.695318\n",
       "          ...   \n",
       "3521   -0.204519\n",
       "3522    0.848763\n",
       "3523   -0.195056\n",
       "3524   -0.212479\n",
       "3525   -0.214414\n",
       "Name: Raw_GSR, Length: 3526, dtype: float64"
      ]
     },
     "execution_count": 80,
     "metadata": {},
     "output_type": "execute_result"
    }
   ],
   "source": [
    "average_gsr.dropna()"
   ]
  },
  {
   "cell_type": "code",
   "execution_count": 81,
   "id": "fa39b856",
   "metadata": {},
   "outputs": [],
   "source": [
    "# Write the average GSR data to a new CSV file\n",
    "average_df = pd.DataFrame({\"GSR\": average_gsr})\n",
    "average_df.to_csv(\"average_gsr_group2_new.csv\", index=True)"
   ]
  },
  {
   "cell_type": "markdown",
   "id": "7ebc3afd",
   "metadata": {},
   "source": [
    "# Mean, variance and standard deviation of the GSR Benchmark\n",
    "The Benchmark aims to make the upcoming data comparable"
   ]
  },
  {
   "cell_type": "code",
   "execution_count": 11,
   "id": "19bd203e",
   "metadata": {},
   "outputs": [],
   "source": [
    "data0 = pd.read_csv('average_gsr_benchnew.csv')"
   ]
  },
  {
   "cell_type": "code",
   "execution_count": 12,
   "id": "450292e7",
   "metadata": {},
   "outputs": [],
   "source": [
    "mean = data0[\"GSR\"].mean()\n",
    "variance = data0[\"GSR\"].var()\n",
    "std = data0[\"GSR\"].std()"
   ]
  },
  {
   "cell_type": "code",
   "execution_count": 13,
   "id": "c9e74c7b",
   "metadata": {},
   "outputs": [
    {
     "name": "stdout",
     "output_type": "stream",
     "text": [
      "Benchmark Stats:  \n",
      "\n",
      "Mean:  0.2866412408583815\n",
      "Variance:  0.01835561380152363\n",
      "Standard deviation:  0.13548289117642726\n"
     ]
    }
   ],
   "source": [
    "print(\"Benchmark Stats: \",'\\n')\n",
    "print(\"Mean: \", mean)\n",
    "print(\"Variance: \", variance)\n",
    "print(\"Standard deviation: \", std)"
   ]
  },
  {
   "cell_type": "markdown",
   "id": "053195f0",
   "metadata": {},
   "source": [
    "Old Benchmark Stats:  \n",
    "\n",
    "Mean:  0.22582085031204685\n",
    "\n",
    "Variance:  0.04513382584624771\n",
    "\n",
    "Standard deviation:  0.2124472307332993"
   ]
  },
  {
   "cell_type": "markdown",
   "id": "5168f6bd",
   "metadata": {},
   "source": [
    "# Group: calculate the variance, mean & std of the GSR data, conduct t-test \n",
    "We work with the group data files, whose mean were calculated prior to this. By doing so, we make it possible to COMPARE GROUPS to each other. Afterwards, we will be working with each individual file and first get the individual variance and then conclude the mean. By Doing so, we make differences WITHIN A GROUP visible."
   ]
  },
  {
   "cell_type": "code",
   "execution_count": 2,
   "id": "f50c5495",
   "metadata": {},
   "outputs": [],
   "source": [
    "groupstats_df = pd.DataFrame(columns=['Group', 'Variance', 'Mean', 'Standard_Deviation'])"
   ]
  },
  {
   "cell_type": "code",
   "execution_count": 4,
   "id": "d4fc27b1",
   "metadata": {},
   "outputs": [],
   "source": [
    "#calculate the variance of each file per group\n",
    "for i in range(1, 12):\n",
    "    df = pd.read_csv(f'average_gsr_group{i}.csv')\n",
    "    gsr_variance = df['GSR'].var()\n",
    "#    print(f'The variance of the mean GSR data of group {i} is: {gsr_variance}')"
   ]
  },
  {
   "cell_type": "code",
   "execution_count": 771,
   "id": "a65ea726",
   "metadata": {},
   "outputs": [
    {
     "name": "stdout",
     "output_type": "stream",
     "text": [
      "    Group  Variance      Mean  Standard_Deviation\n",
      "0     1.0  0.255843 -0.301450            0.505810\n",
      "1     2.0  0.322374  0.386465            0.567780\n",
      "2     3.0  0.336371 -0.001206            0.579975\n",
      "3     4.0  0.322228  0.025738            0.567652\n",
      "4     5.0  0.258458 -0.086729            0.508388\n",
      "5     6.0  0.201505  0.317646            0.448893\n",
      "6     7.0  0.140642  0.494338            0.375022\n",
      "7     8.0  0.289823  0.229220            0.538352\n",
      "8     9.0  0.254204 -0.007934            0.504187\n",
      "9    10.0  0.084315  0.657878            0.290370\n",
      "10   11.0  0.237499  0.232470            0.487339\n"
     ]
    }
   ],
   "source": [
    "groupstats_df = pd.DataFrame(columns=['Group', 'Variance', 'Mean', 'Standard_Deviation'])\n",
    "\n",
    "for i in range(1,12):\n",
    "    df = pd.read_csv(f'average_gsr_group{i}.csv')\n",
    "    #variance, mean and standard deviation\n",
    "    gsr_variance = df['GSR'].var()\n",
    "    gsr_mean = df['GSR'].mean()\n",
    "    gsr_std = df['GSR'].std()\n",
    "    groupstats_df = groupstats_df.append({'Group': i, 'Variance': gsr_variance, 'Mean': gsr_mean, 'Standard_Deviation': gsr_std}, ignore_index=True)\n",
    "    \n",
    "print(groupstats_df)"
   ]
  },
  {
   "cell_type": "markdown",
   "id": "1f42b89f",
   "metadata": {},
   "source": [
    "Note: Variance can be smaller than STD, when the scale is 0 to 1.\n",
    "\n",
    "Variance: Variance measures the spread of the data: how far each value in the data set is from the mean. A higher variance indicates that the data points are more diverse and deviate more from the mean. Identify differencesamong groups, and to compare the spread of data between groups.\n",
    "\n",
    "Standard deviation: Standard deviation is average deviation of each data point from the mean. A higher standard deviation indicates that the data points are more diverse. Compare the spread of data within groups."
   ]
  },
  {
   "cell_type": "code",
   "execution_count": 772,
   "id": "c9264ebb",
   "metadata": {},
   "outputs": [
    {
     "name": "stderr",
     "output_type": "stream",
     "text": [
      "/Users/dianakozachek/opt/anaconda3/lib/python3.8/site-packages/scipy/stats/morestats.py:1760: UserWarning:\n",
      "\n",
      "p-value may not be accurate for N > 5000.\n",
      "\n"
     ]
    },
    {
     "data": {
      "text/plain": [
       "ShapiroResult(statistic=0.9888039231300354, pvalue=0.0)"
      ]
     },
     "execution_count": 772,
     "metadata": {},
     "output_type": "execute_result"
    }
   ],
   "source": [
    "#is the data normally distributed? no, its not.\n",
    "group1 = pd.read_csv('average_gsr_group1.csv').dropna()[['GSR']].values.flatten()\n",
    "group2 = pd.read_csv('average_gsr_group2.csv').dropna()[['GSR']].values.flatten()\n",
    "group3 = pd.read_csv('average_gsr_group3.csv').dropna()[['GSR']].values.flatten()\n",
    "group4 = pd.read_csv('average_gsr_group4.csv').dropna()[['GSR']].values.flatten()\n",
    "group5 = pd.read_csv('average_gsr_group5.csv').dropna()[['GSR']].values.flatten()\n",
    "group6 = pd.read_csv('average_gsr_group6.csv').dropna()[['GSR']].values.flatten()\n",
    "group7 = pd.read_csv('average_gsr_group7.csv').dropna()[['GSR']].values.flatten()\n",
    "group8 = pd.read_csv('average_gsr_group8.csv').dropna()[['GSR']].values.flatten()\n",
    "#group9 = pd.read_csv('average_gsr_group9.csv').dropna()[['GSR']].values.flatten()\n",
    "group10 = pd.read_csv('average_gsr_group10.csv').dropna()[['GSR']].values.flatten()\n",
    "group11 = pd.read_csv('average_gsr_group11.csv').dropna()[['GSR']].values.flatten()\n",
    "\n",
    "all_data = np.concatenate([group1, group2, group3, group4, group5, group6, group7, group8, group9])\n",
    "\n",
    "stats.shapiro(all_data)"
   ]
  },
  {
   "cell_type": "code",
   "execution_count": 773,
   "id": "5318984a",
   "metadata": {},
   "outputs": [
    {
     "name": "stdout",
     "output_type": "stream",
     "text": [
      "LeveneResult(statistic=345.8979595053021, pvalue=0.0)\n"
     ]
    }
   ],
   "source": [
    "# comparing the variances of the groups with levene test, they are significantly different from each other \n",
    "levene_test = levene(group1,group2,group3,group4,group5,group6,group7,group8,group10,group11)\n",
    "print(levene_test)"
   ]
  },
  {
   "cell_type": "code",
   "execution_count": 776,
   "id": "158765b7",
   "metadata": {},
   "outputs": [],
   "source": [
    "#to find out which groups differ how from each other, we conclude a post-hoc test\n",
    "datacono = [group1, group2, group3, group4, group5, group6, group7, group8, group10, group11]\n",
    "result = posthoc_conover(datacono)\n",
    "#result"
   ]
  },
  {
   "cell_type": "code",
   "execution_count": 775,
   "id": "5467934c",
   "metadata": {},
   "outputs": [
    {
     "name": "stdout",
     "output_type": "stream",
     "text": [
      "t-Statistic:  2.089699754506084\n",
      "p-Value:  0.06316088265867909\n"
     ]
    }
   ],
   "source": [
    "#sample t test to determine significant differences in means\n",
    "t, p = stats.ttest_1samp(groupstats_df['Mean'], 0)\n",
    "print(\"t-Statistic: \", t)\n",
    "print(\"p-Value: \", p)"
   ]
  },
  {
   "cell_type": "code",
   "execution_count": 787,
   "id": "d896846f",
   "metadata": {},
   "outputs": [
    {
     "data": {
      "text/html": [
       "<div>\n",
       "<style scoped>\n",
       "    .dataframe tbody tr th:only-of-type {\n",
       "        vertical-align: middle;\n",
       "    }\n",
       "\n",
       "    .dataframe tbody tr th {\n",
       "        vertical-align: top;\n",
       "    }\n",
       "\n",
       "    .dataframe thead th {\n",
       "        text-align: right;\n",
       "    }\n",
       "</style>\n",
       "<table border=\"1\" class=\"dataframe\">\n",
       "  <thead>\n",
       "    <tr style=\"text-align: right;\">\n",
       "      <th></th>\n",
       "      <th>Group</th>\n",
       "      <th>Variance</th>\n",
       "      <th>Mean</th>\n",
       "      <th>Standard_Deviation</th>\n",
       "    </tr>\n",
       "  </thead>\n",
       "  <tbody>\n",
       "    <tr>\n",
       "      <th>0</th>\n",
       "      <td>1.0</td>\n",
       "      <td>0.255843</td>\n",
       "      <td>-0.301450</td>\n",
       "      <td>0.505810</td>\n",
       "    </tr>\n",
       "    <tr>\n",
       "      <th>1</th>\n",
       "      <td>2.0</td>\n",
       "      <td>0.322374</td>\n",
       "      <td>0.386465</td>\n",
       "      <td>0.567780</td>\n",
       "    </tr>\n",
       "    <tr>\n",
       "      <th>2</th>\n",
       "      <td>3.0</td>\n",
       "      <td>0.336371</td>\n",
       "      <td>-0.001206</td>\n",
       "      <td>0.579975</td>\n",
       "    </tr>\n",
       "    <tr>\n",
       "      <th>3</th>\n",
       "      <td>4.0</td>\n",
       "      <td>0.322228</td>\n",
       "      <td>0.025738</td>\n",
       "      <td>0.567652</td>\n",
       "    </tr>\n",
       "    <tr>\n",
       "      <th>4</th>\n",
       "      <td>5.0</td>\n",
       "      <td>0.258458</td>\n",
       "      <td>-0.086729</td>\n",
       "      <td>0.508388</td>\n",
       "    </tr>\n",
       "    <tr>\n",
       "      <th>5</th>\n",
       "      <td>6.0</td>\n",
       "      <td>0.201505</td>\n",
       "      <td>0.317646</td>\n",
       "      <td>0.448893</td>\n",
       "    </tr>\n",
       "    <tr>\n",
       "      <th>6</th>\n",
       "      <td>7.0</td>\n",
       "      <td>0.140642</td>\n",
       "      <td>0.494338</td>\n",
       "      <td>0.375022</td>\n",
       "    </tr>\n",
       "    <tr>\n",
       "      <th>7</th>\n",
       "      <td>8.0</td>\n",
       "      <td>0.289823</td>\n",
       "      <td>0.229220</td>\n",
       "      <td>0.538352</td>\n",
       "    </tr>\n",
       "    <tr>\n",
       "      <th>9</th>\n",
       "      <td>10.0</td>\n",
       "      <td>0.084315</td>\n",
       "      <td>0.657878</td>\n",
       "      <td>0.290370</td>\n",
       "    </tr>\n",
       "    <tr>\n",
       "      <th>10</th>\n",
       "      <td>11.0</td>\n",
       "      <td>0.237499</td>\n",
       "      <td>0.232470</td>\n",
       "      <td>0.487339</td>\n",
       "    </tr>\n",
       "  </tbody>\n",
       "</table>\n",
       "</div>"
      ],
      "text/plain": [
       "    Group  Variance      Mean  Standard_Deviation\n",
       "0     1.0  0.255843 -0.301450            0.505810\n",
       "1     2.0  0.322374  0.386465            0.567780\n",
       "2     3.0  0.336371 -0.001206            0.579975\n",
       "3     4.0  0.322228  0.025738            0.567652\n",
       "4     5.0  0.258458 -0.086729            0.508388\n",
       "5     6.0  0.201505  0.317646            0.448893\n",
       "6     7.0  0.140642  0.494338            0.375022\n",
       "7     8.0  0.289823  0.229220            0.538352\n",
       "9    10.0  0.084315  0.657878            0.290370\n",
       "10   11.0  0.237499  0.232470            0.487339"
      ]
     },
     "execution_count": 787,
     "metadata": {},
     "output_type": "execute_result"
    }
   ],
   "source": [
    "groupstats_df.drop([8], axis=0)"
   ]
  },
  {
   "cell_type": "code",
   "execution_count": 788,
   "id": "3c568d06",
   "metadata": {},
   "outputs": [
    {
     "data": {
      "text/plain": [
       "array([0.4585045, 0.507099 , 0.560327 ])"
      ]
     },
     "execution_count": 788,
     "metadata": {},
     "output_type": "execute_result"
    }
   ],
   "source": [
    "#percentile of std: what is high what is low\n",
    "x = np.percentile([0.505810, 0.567780, 0.579975, 0.567652, 0.508388,  0.448893,  0.375022, 0.538352, 0.290370, 0.487339], [25, 50, 75])\n",
    "x*100\n",
    "x"
   ]
  },
  {
   "cell_type": "code",
   "execution_count": 789,
   "id": "61b69652",
   "metadata": {},
   "outputs": [
    {
     "data": {
      "text/plain": [
       "array([0.2105035 , 0.2571505 , 0.31412675])"
      ]
     },
     "execution_count": 789,
     "metadata": {},
     "output_type": "execute_result"
    }
   ],
   "source": [
    "#percentile of variance: what is high what is low\n",
    "x = np.percentile([0.255843, 0.322374, 0.336371, 0.322228, 0.258458,  0.201505,  0.140642, 0.289823, 0.084315, 0.237499], [25, 50, 75])\n",
    "x*100\n",
    "x"
   ]
  },
  {
   "cell_type": "markdown",
   "id": "bfca358a",
   "metadata": {},
   "source": [
    "# Indv: calculate the variance, mean & std of the GSR data\n"
   ]
  },
  {
   "cell_type": "code",
   "execution_count": 791,
   "id": "e1759a40",
   "metadata": {},
   "outputs": [],
   "source": [
    "#groupstats_df.to_csv('group_stats.csv', index=False)"
   ]
  },
  {
   "cell_type": "code",
   "execution_count": 836,
   "id": "1818c4f7",
   "metadata": {
    "scrolled": true
   },
   "outputs": [
    {
     "name": "stdout",
     "output_type": "stream",
     "text": [
      "      ID  Variance          Mean  Standard_Deviation\n",
      "0    0.0  1.000307  2.908837e-14            1.000154\n",
      "1    1.0  1.000135  9.530979e-15            1.000068\n",
      "2    2.0  1.000134 -1.365823e-14            1.000067\n",
      "3    3.0  1.000166 -1.796355e-16            1.000083\n",
      "4    4.0  1.000162  8.238240e-16            1.000081\n",
      "5    5.0  1.000284  7.803048e-16            1.000142\n",
      "6    6.0  1.000297  9.753891e-16            1.000148\n",
      "7    7.0  1.000282 -5.744336e-14            1.000141\n",
      "8    8.0  1.000296 -3.582723e-16            1.000148\n",
      "9    9.0  1.000182  5.353365e-16            1.000091\n",
      "10  10.0  1.000180  2.237225e-17            1.000090\n",
      "11  11.0  1.000175  1.533957e-15            1.000087\n",
      "12  12.0  1.000163 -4.386013e-16            1.000081\n",
      "13  13.0  1.000160  8.091125e-17            1.000080\n",
      "14  14.0  1.000167  5.274715e-16            1.000083\n",
      "15  15.0  1.000174  1.395004e-15            1.000087\n",
      "16  16.0  1.000134 -1.579515e-14            1.000067\n",
      "17  17.0  1.000074  4.343620e-15            1.000037\n",
      "18  18.0  1.000070  3.524796e-15            1.000035\n",
      "19  19.0  1.000067 -6.785678e-15            1.000033\n",
      "20  20.0  1.000211 -5.229157e-15            1.000105\n",
      "21  21.0  1.000070 -1.897122e-15            1.000035\n",
      "22  22.0  1.000182 -5.443278e-16            1.000091\n",
      "23  23.0  1.000072 -3.639248e-15            1.000036\n",
      "24  24.0  1.000213  6.589471e-16            1.000106\n",
      "25  25.0  1.000211 -5.761727e-16            1.000106\n",
      "26  26.0  1.000021  7.848865e-16            1.000011\n",
      "27  27.0  1.000308 -2.897720e-16            1.000154\n",
      "28  28.0  1.000303  1.113560e-14            1.000151\n",
      "29  29.0  1.000034 -1.386955e-14            1.000017\n"
     ]
    }
   ],
   "source": [
    "indistats_df = pd.DataFrame(columns=['ID', 'Variance', 'Mean', 'Standard_Deviation'])\n",
    "\n",
    "for i in range(0,30):\n",
    "    # read the CSV file\n",
    "    df = pd.read_csv(f'./Normal/gsrdata_{i}.csv')\n",
    "    # calculate the variance of the 'gsr' column\n",
    "    gsr_variance = df['Raw_GSR'].var()\n",
    "    # calculate the mean of the 'gsr' column\n",
    "    gsr_mean = df['Raw_GSR'].mean()\n",
    "    # calculate the std of the 'gsr' column\n",
    "    gsr_std = df['Raw_GSR'].std()\n",
    "    indistats_df = indistats_df.append({'ID': i, 'Variance': gsr_variance, 'Mean': gsr_mean, 'Standard_Deviation': gsr_std}, ignore_index=True)\n",
    "    \n",
    "print(indistats_df)"
   ]
  },
  {
   "cell_type": "code",
   "execution_count": 845,
   "id": "0522d996",
   "metadata": {},
   "outputs": [],
   "source": [
    "#indistats_df.to_csv('indi_stats.csv', index=False)"
   ]
  },
  {
   "cell_type": "code",
   "execution_count": 844,
   "id": "e824ca5f",
   "metadata": {},
   "outputs": [
    {
     "data": {
      "text/plain": [
       "ShapiroResult(statistic=0.9323909282684326, pvalue=0.05685275048017502)"
      ]
     },
     "execution_count": 844,
     "metadata": {},
     "output_type": "execute_result"
    }
   ],
   "source": [
    "stats.shapiro(indistats_df['Variance'])"
   ]
  },
  {
   "cell_type": "code",
   "execution_count": null,
   "id": "b81611d1",
   "metadata": {},
   "outputs": [],
   "source": []
  },
  {
   "cell_type": "markdown",
   "id": "25787bc0",
   "metadata": {},
   "source": [
    "# Creating the Dataframe Performance x GSR"
   ]
  },
  {
   "cell_type": "code",
   "execution_count": 795,
   "id": "c9b63b1f",
   "metadata": {},
   "outputs": [
    {
     "data": {
      "text/html": [
       "<div>\n",
       "<style scoped>\n",
       "    .dataframe tbody tr th:only-of-type {\n",
       "        vertical-align: middle;\n",
       "    }\n",
       "\n",
       "    .dataframe tbody tr th {\n",
       "        vertical-align: top;\n",
       "    }\n",
       "\n",
       "    .dataframe thead th {\n",
       "        text-align: right;\n",
       "    }\n",
       "</style>\n",
       "<table border=\"1\" class=\"dataframe\">\n",
       "  <thead>\n",
       "    <tr style=\"text-align: right;\">\n",
       "      <th></th>\n",
       "      <th>Group</th>\n",
       "      <th>Variance</th>\n",
       "      <th>Mean</th>\n",
       "      <th>Standard_Deviation</th>\n",
       "      <th>Collaboration</th>\n",
       "      <th>Task_fulfillment</th>\n",
       "      <th>Nodes</th>\n",
       "      <th>total_performance</th>\n",
       "    </tr>\n",
       "  </thead>\n",
       "  <tbody>\n",
       "    <tr>\n",
       "      <th>0</th>\n",
       "      <td>1.0</td>\n",
       "      <td>0.255843</td>\n",
       "      <td>-0.301450</td>\n",
       "      <td>0.505810</td>\n",
       "      <td>2.6</td>\n",
       "      <td>8.0</td>\n",
       "      <td>10.0</td>\n",
       "      <td>6.92</td>\n",
       "    </tr>\n",
       "    <tr>\n",
       "      <th>1</th>\n",
       "      <td>2.0</td>\n",
       "      <td>0.322374</td>\n",
       "      <td>0.386465</td>\n",
       "      <td>0.567780</td>\n",
       "      <td>2.3</td>\n",
       "      <td>3.0</td>\n",
       "      <td>5.6</td>\n",
       "      <td>3.60</td>\n",
       "    </tr>\n",
       "    <tr>\n",
       "      <th>2</th>\n",
       "      <td>3.0</td>\n",
       "      <td>0.336371</td>\n",
       "      <td>-0.001206</td>\n",
       "      <td>0.579975</td>\n",
       "      <td>3.3</td>\n",
       "      <td>13.3</td>\n",
       "      <td>15.3</td>\n",
       "      <td>10.63</td>\n",
       "    </tr>\n",
       "    <tr>\n",
       "      <th>3</th>\n",
       "      <td>4.0</td>\n",
       "      <td>0.322228</td>\n",
       "      <td>0.025738</td>\n",
       "      <td>0.567652</td>\n",
       "      <td>0.0</td>\n",
       "      <td>6.6</td>\n",
       "      <td>11.0</td>\n",
       "      <td>5.83</td>\n",
       "    </tr>\n",
       "    <tr>\n",
       "      <th>4</th>\n",
       "      <td>5.0</td>\n",
       "      <td>0.258458</td>\n",
       "      <td>-0.086729</td>\n",
       "      <td>0.508388</td>\n",
       "      <td>5.6</td>\n",
       "      <td>6.6</td>\n",
       "      <td>14.0</td>\n",
       "      <td>8.73</td>\n",
       "    </tr>\n",
       "    <tr>\n",
       "      <th>5</th>\n",
       "      <td>6.0</td>\n",
       "      <td>0.201505</td>\n",
       "      <td>0.317646</td>\n",
       "      <td>0.448893</td>\n",
       "      <td>6.3</td>\n",
       "      <td>11.0</td>\n",
       "      <td>11.0</td>\n",
       "      <td>9.43</td>\n",
       "    </tr>\n",
       "    <tr>\n",
       "      <th>6</th>\n",
       "      <td>7.0</td>\n",
       "      <td>0.140642</td>\n",
       "      <td>0.494338</td>\n",
       "      <td>0.375022</td>\n",
       "      <td>4.3</td>\n",
       "      <td>3.3</td>\n",
       "      <td>8.3</td>\n",
       "      <td>5.30</td>\n",
       "    </tr>\n",
       "    <tr>\n",
       "      <th>7</th>\n",
       "      <td>8.0</td>\n",
       "      <td>0.289823</td>\n",
       "      <td>0.229220</td>\n",
       "      <td>0.538352</td>\n",
       "      <td>3.3</td>\n",
       "      <td>5.3</td>\n",
       "      <td>13.3</td>\n",
       "      <td>7.3</td>\n",
       "    </tr>\n",
       "    <tr>\n",
       "      <th>8</th>\n",
       "      <td>9.0</td>\n",
       "      <td>0.084315</td>\n",
       "      <td>0.657878</td>\n",
       "      <td>0.290370</td>\n",
       "      <td>6.6</td>\n",
       "      <td>5.3</td>\n",
       "      <td>8.6</td>\n",
       "      <td>6,83</td>\n",
       "    </tr>\n",
       "    <tr>\n",
       "      <th>9</th>\n",
       "      <td>10.0</td>\n",
       "      <td>0.237499</td>\n",
       "      <td>0.232470</td>\n",
       "      <td>0.487339</td>\n",
       "      <td>7.0</td>\n",
       "      <td>4.0</td>\n",
       "      <td>9.0</td>\n",
       "      <td>6.67</td>\n",
       "    </tr>\n",
       "  </tbody>\n",
       "</table>\n",
       "</div>"
      ],
      "text/plain": [
       "   Group  Variance      Mean  Standard_Deviation  Collaboration  \\\n",
       "0    1.0  0.255843 -0.301450            0.505810            2.6   \n",
       "1    2.0  0.322374  0.386465            0.567780            2.3   \n",
       "2    3.0  0.336371 -0.001206            0.579975            3.3   \n",
       "3    4.0  0.322228  0.025738            0.567652            0.0   \n",
       "4    5.0  0.258458 -0.086729            0.508388            5.6   \n",
       "5    6.0  0.201505  0.317646            0.448893            6.3   \n",
       "6    7.0  0.140642  0.494338            0.375022            4.3   \n",
       "7    8.0  0.289823  0.229220            0.538352            3.3   \n",
       "8    9.0  0.084315  0.657878            0.290370            6.6   \n",
       "9   10.0  0.237499  0.232470            0.487339            7.0   \n",
       "\n",
       "   Task_fulfillment  Nodes total_performance  \n",
       "0               8.0   10.0              6.92  \n",
       "1               3.0    5.6              3.60  \n",
       "2              13.3   15.3             10.63  \n",
       "3               6.6   11.0              5.83  \n",
       "4               6.6   14.0              8.73  \n",
       "5              11.0   11.0              9.43  \n",
       "6               3.3    8.3              5.30  \n",
       "7               5.3   13.3               7.3  \n",
       "8               5.3    8.6              6,83  \n",
       "9               4.0    9.0              6.67  "
      ]
     },
     "execution_count": 795,
     "metadata": {},
     "output_type": "execute_result"
    }
   ],
   "source": [
    "#load data from CSV files\n",
    "gsr_data = pd.read_csv('group_stats.csv')\n",
    "performance_data = pd.read_excel('efficien.xlsx')\n",
    "data = gsr_data.merge(performance_data, how='outer',on = 'Group')\n",
    "data"
   ]
  },
  {
   "cell_type": "code",
   "execution_count": null,
   "id": "645314c7",
   "metadata": {},
   "outputs": [],
   "source": []
  },
  {
   "cell_type": "code",
   "execution_count": 796,
   "id": "3a87384a",
   "metadata": {},
   "outputs": [],
   "source": [
    "#data.to_csv(\"variance_and_performance_clean.csv\", index = False)"
   ]
  },
  {
   "cell_type": "markdown",
   "id": "fcf0a285",
   "metadata": {},
   "source": [
    "# Exploratory Analysis per Group: Variance x Task fulfillment, x Collaboration, x Nodes in Linear Regression"
   ]
  },
  {
   "cell_type": "code",
   "execution_count": 7,
   "id": "619ce754",
   "metadata": {},
   "outputs": [
    {
     "data": {
      "text/html": [
       "<div>\n",
       "<style scoped>\n",
       "    .dataframe tbody tr th:only-of-type {\n",
       "        vertical-align: middle;\n",
       "    }\n",
       "\n",
       "    .dataframe tbody tr th {\n",
       "        vertical-align: top;\n",
       "    }\n",
       "\n",
       "    .dataframe thead th {\n",
       "        text-align: right;\n",
       "    }\n",
       "</style>\n",
       "<table border=\"1\" class=\"dataframe\">\n",
       "  <thead>\n",
       "    <tr style=\"text-align: right;\">\n",
       "      <th></th>\n",
       "      <th>Group</th>\n",
       "      <th>Variance</th>\n",
       "      <th>Mean</th>\n",
       "      <th>Standard_Deviation</th>\n",
       "      <th>Collaboration</th>\n",
       "      <th>Task_fulfillment</th>\n",
       "      <th>Nodes</th>\n",
       "      <th>total_performance</th>\n",
       "    </tr>\n",
       "  </thead>\n",
       "  <tbody>\n",
       "    <tr>\n",
       "      <th>0</th>\n",
       "      <td>1.0</td>\n",
       "      <td>0.255843</td>\n",
       "      <td>-0.301450</td>\n",
       "      <td>0.505810</td>\n",
       "      <td>2.6</td>\n",
       "      <td>8.0</td>\n",
       "      <td>10.0</td>\n",
       "      <td>6.92</td>\n",
       "    </tr>\n",
       "    <tr>\n",
       "      <th>1</th>\n",
       "      <td>2.0</td>\n",
       "      <td>0.322374</td>\n",
       "      <td>0.386465</td>\n",
       "      <td>0.567780</td>\n",
       "      <td>2.3</td>\n",
       "      <td>3.0</td>\n",
       "      <td>5.6</td>\n",
       "      <td>3.60</td>\n",
       "    </tr>\n",
       "    <tr>\n",
       "      <th>2</th>\n",
       "      <td>3.0</td>\n",
       "      <td>0.336371</td>\n",
       "      <td>-0.001206</td>\n",
       "      <td>0.579975</td>\n",
       "      <td>3.3</td>\n",
       "      <td>13.3</td>\n",
       "      <td>15.3</td>\n",
       "      <td>10.63</td>\n",
       "    </tr>\n",
       "    <tr>\n",
       "      <th>3</th>\n",
       "      <td>4.0</td>\n",
       "      <td>0.322228</td>\n",
       "      <td>0.025738</td>\n",
       "      <td>0.567652</td>\n",
       "      <td>0.0</td>\n",
       "      <td>6.6</td>\n",
       "      <td>11.0</td>\n",
       "      <td>5.83</td>\n",
       "    </tr>\n",
       "    <tr>\n",
       "      <th>4</th>\n",
       "      <td>5.0</td>\n",
       "      <td>0.258458</td>\n",
       "      <td>-0.086729</td>\n",
       "      <td>0.508388</td>\n",
       "      <td>5.6</td>\n",
       "      <td>6.6</td>\n",
       "      <td>14.0</td>\n",
       "      <td>8.73</td>\n",
       "    </tr>\n",
       "    <tr>\n",
       "      <th>5</th>\n",
       "      <td>6.0</td>\n",
       "      <td>0.201505</td>\n",
       "      <td>0.317646</td>\n",
       "      <td>0.448893</td>\n",
       "      <td>6.3</td>\n",
       "      <td>11.0</td>\n",
       "      <td>11.0</td>\n",
       "      <td>9.43</td>\n",
       "    </tr>\n",
       "    <tr>\n",
       "      <th>6</th>\n",
       "      <td>7.0</td>\n",
       "      <td>0.140642</td>\n",
       "      <td>0.494338</td>\n",
       "      <td>0.375022</td>\n",
       "      <td>4.3</td>\n",
       "      <td>3.3</td>\n",
       "      <td>8.3</td>\n",
       "      <td>5.30</td>\n",
       "    </tr>\n",
       "    <tr>\n",
       "      <th>7</th>\n",
       "      <td>8.0</td>\n",
       "      <td>0.289823</td>\n",
       "      <td>0.229220</td>\n",
       "      <td>0.538352</td>\n",
       "      <td>3.3</td>\n",
       "      <td>5.3</td>\n",
       "      <td>13.3</td>\n",
       "      <td>7.3</td>\n",
       "    </tr>\n",
       "    <tr>\n",
       "      <th>8</th>\n",
       "      <td>9.0</td>\n",
       "      <td>0.084315</td>\n",
       "      <td>0.657878</td>\n",
       "      <td>0.290370</td>\n",
       "      <td>6.6</td>\n",
       "      <td>5.3</td>\n",
       "      <td>8.6</td>\n",
       "      <td>6,83</td>\n",
       "    </tr>\n",
       "    <tr>\n",
       "      <th>9</th>\n",
       "      <td>10.0</td>\n",
       "      <td>0.237499</td>\n",
       "      <td>0.232470</td>\n",
       "      <td>0.487339</td>\n",
       "      <td>7.0</td>\n",
       "      <td>4.0</td>\n",
       "      <td>9.0</td>\n",
       "      <td>6.67</td>\n",
       "    </tr>\n",
       "  </tbody>\n",
       "</table>\n",
       "</div>"
      ],
      "text/plain": [
       "   Group  Variance      Mean  Standard_Deviation  Collaboration  \\\n",
       "0    1.0  0.255843 -0.301450            0.505810            2.6   \n",
       "1    2.0  0.322374  0.386465            0.567780            2.3   \n",
       "2    3.0  0.336371 -0.001206            0.579975            3.3   \n",
       "3    4.0  0.322228  0.025738            0.567652            0.0   \n",
       "4    5.0  0.258458 -0.086729            0.508388            5.6   \n",
       "5    6.0  0.201505  0.317646            0.448893            6.3   \n",
       "6    7.0  0.140642  0.494338            0.375022            4.3   \n",
       "7    8.0  0.289823  0.229220            0.538352            3.3   \n",
       "8    9.0  0.084315  0.657878            0.290370            6.6   \n",
       "9   10.0  0.237499  0.232470            0.487339            7.0   \n",
       "\n",
       "   Task_fulfillment  Nodes total_performance  \n",
       "0               8.0   10.0              6.92  \n",
       "1               3.0    5.6              3.60  \n",
       "2              13.3   15.3             10.63  \n",
       "3               6.6   11.0              5.83  \n",
       "4               6.6   14.0              8.73  \n",
       "5              11.0   11.0              9.43  \n",
       "6               3.3    8.3              5.30  \n",
       "7               5.3   13.3               7.3  \n",
       "8               5.3    8.6              6,83  \n",
       "9               4.0    9.0              6.67  "
      ]
     },
     "execution_count": 7,
     "metadata": {},
     "output_type": "execute_result"
    }
   ],
   "source": [
    "data = pd.read_csv('variance_and_performance_clean.csv')\n",
    "data"
   ]
  },
  {
   "cell_type": "code",
   "execution_count": 8,
   "id": "1f2ec565",
   "metadata": {},
   "outputs": [
    {
     "data": {
      "text/plain": [
       "ShapiroResult(statistic=0.9152588844299316, pvalue=0.31910112500190735)"
      ]
     },
     "execution_count": 8,
     "metadata": {},
     "output_type": "execute_result"
    }
   ],
   "source": [
    "#yes normal distributed\n",
    "stats.shapiro(data['Variance'])"
   ]
  },
  {
   "cell_type": "code",
   "execution_count": 9,
   "id": "2eb25020",
   "metadata": {},
   "outputs": [
    {
     "name": "stdout",
     "output_type": "stream",
     "text": [
      "[[-14.04837447]\n",
      " [ 15.56096069]\n",
      " [ 14.66745055]]\n",
      "[7.9242524  2.83956254 7.06768856]\n",
      "0.13747660035460485\n",
      "-0.4003644751034783\n"
     ]
    }
   ],
   "source": [
    "# Assign the independent and dependent variables\n",
    "X = data[['Variance']]\n",
    "y = data[['Collaboration','Task_fulfillment','Nodes']]\n",
    "\n",
    "# Split the data into train and test sets\n",
    "X_train, X_test, y_train, y_test = train_test_split(X, y, test_size=0.2, random_state=33)\n",
    "\n",
    "# Initialize the model\n",
    "reg = LinearRegression()\n",
    "\n",
    "# Fit the model to the train data\n",
    "reg.fit(X_train, y_train)\n",
    "y_pred = reg.predict(X_test)\n",
    "\n",
    "print(reg.coef_)\n",
    "print(reg.intercept_)\n",
    "print(reg.score(X_train, y_train))\n",
    "print(reg.score(X_test, y_test))"
   ]
  },
  {
   "cell_type": "code",
   "execution_count": 10,
   "id": "c43fc3f1",
   "metadata": {},
   "outputs": [
    {
     "data": {
      "image/png": "[encoded data removed]",
      "text/plain": [
       "<Figure size 1080x360 with 3 Axes>"
      ]
     },
     "metadata": {
      "needs_background": "light"
     },
     "output_type": "display_data"
    }
   ],
   "source": [
    "reg.fit(X, y)\n",
    "\n",
    "# Create scatter plots\n",
    "fig, axs = plt.subplots(1, 3, figsize=(15, 5))\n",
    "axs[0].scatter(X, y['Collaboration'])\n",
    "axs[1].scatter(X, y['Task_fulfillment'])\n",
    "axs[2].scatter(X, y['Nodes'])\n",
    "\n",
    "# labels\n",
    "axs[0].set_xlabel('Variance')\n",
    "axs[0].set_ylabel('Collaboration')\n",
    "axs[1].set_xlabel('Variance')\n",
    "axs[1].set_ylabel('Task fulfillment')\n",
    "axs[2].set_xlabel('Variance')\n",
    "axs[2].set_ylabel('Nodes')\n",
    "\n",
    "\n",
    "#add vertical line for median GSR variance\n",
    "axs[0].axvline(x=0.2571505, ymin=0, ymax=1, color='black', linestyle='--')\n",
    "axs[0].text(0.2571505, 0, 'Median', rotation=90, fontsize=8, color='black', ha='left', va='bottom')\n",
    "\n",
    "plt.title('Interaction between Variance of the GSR Signal and Collaboration per Group')\n",
    "plt.show()\n",
    "\n",
    "#collaboration = array([2.775, 3.8  , 6.125])\n",
    "#std = array([0.4585045, 0.507099 , 0.560327 ])\n",
    "#variance = array([0.2105035 , 0.2571505 , 0.31412675])"
   ]
  },
  {
   "cell_type": "code",
   "execution_count": 11,
   "id": "4126c374",
   "metadata": {},
   "outputs": [
    {
     "data": {
      "image/png": "[encoded data removed]",
      "text/plain": [
       "<Figure size 720x576 with 1 Axes>"
      ]
     },
     "metadata": {
      "needs_background": "light"
     },
     "output_type": "display_data"
    },
    {
     "data": {
      "text/plain": [
       "<Figure size 5400x3600 with 0 Axes>"
      ]
     },
     "metadata": {},
     "output_type": "display_data"
    }
   ],
   "source": [
    "reg.fit(X, y)\n",
    "\n",
    "# Create scatter plot for collaboration vs variance\n",
    "fig, ax = plt.subplots(figsize=(10,8))\n",
    "ax.scatter(X, y['Collaboration'], c='blue', s=80)\n",
    "ax.grid(visible=False)\n",
    "\n",
    "# labels\n",
    "ax.set_xlabel('Variance', fontsize=15, labelpad=12)\n",
    "ax.set_ylabel('Collaboration', fontsize=15, labelpad=12)\n",
    "\n",
    "# Add horizontal lines and labels for \"low\", \"medium\", and \"high\"\n",
    "ax.axhline(y=2.775, xmin=0, xmax=1, color='red', linestyle='--')\n",
    "ax.text(0, 2.775, 'low performance', fontsize=12, color='red', ha='left', va='bottom')\n",
    "ax.axhline(y=3.8, xmin=0, xmax=1, color='black', linestyle='--')\n",
    "ax.text(0, 3.8, 'median', fontsize=12, color='black', ha='left', va='bottom')\n",
    "ax.axhline(y=6.125, xmin=0, xmax=1, color='green', linestyle='--')\n",
    "ax.text(0, 6.125, 'high performance', fontsize=12, color='green', ha='left', va='bottom')\n",
    "\n",
    "#add vertical line for median GSR variance\n",
    "ax.axvline(x=0.2571505, ymin=0, ymax=1, color='black', linestyle='--')\n",
    "ax.text(0.2571505, 0, 'median variance', rotation=90, fontsize=12, color='black', ha='left', va='bottom')\n",
    "\n",
    "ax.legend(['low performance', 'median', 'high performance'], loc='upper left')\n",
    "\n",
    "plt.title('Interaction: Variance of the GSR Signal & Collaboration per Group', fontsize=15)\n",
    "plt.grid(linestyle='--', color='lightgray')\n",
    "plt.grid(visible=False)\n",
    "plt.tight_layout()\n",
    "plt.figure(dpi=900)\n",
    "plt.show()"
   ]
  },
  {
   "cell_type": "code",
   "execution_count": 12,
   "id": "709763ad",
   "metadata": {},
   "outputs": [
    {
     "name": "stdout",
     "output_type": "stream",
     "text": [
      "[[-12.59505546]\n",
      " [ 15.129905  ]\n",
      " [ 14.5563718 ]]\n",
      "[10.65322519 -0.77431234  3.51328291]\n",
      "0.1284523655665253\n",
      "-1.0419382125375858\n"
     ]
    }
   ],
   "source": [
    "# Assign the independent and dependent variables\n",
    "X = data[['Standard_Deviation']]\n",
    "y = data[['Collaboration','Task_fulfillment','Nodes']]\n",
    "\n",
    "# Split the data into train and test sets\n",
    "X_train, X_test, y_train, y_test = train_test_split(X, y, test_size=0.2, random_state=33)\n",
    "\n",
    "# Initialize the model\n",
    "reg = LinearRegression()\n",
    "\n",
    "# Fit the model to the train data\n",
    "reg.fit(X_train, y_train)\n",
    "y_pred = reg.predict(X_test)\n",
    "\n",
    "print(reg.coef_)\n",
    "print(reg.intercept_)\n",
    "print(reg.score(X_train, y_train))\n",
    "print(reg.score(X_test, y_test))"
   ]
  },
  {
   "cell_type": "code",
   "execution_count": 13,
   "id": "f925010b",
   "metadata": {},
   "outputs": [
    {
     "data": {
      "image/png": "[encoded data removed]",
      "text/plain": [
       "<Figure size 1080x360 with 3 Axes>"
      ]
     },
     "metadata": {
      "needs_background": "light"
     },
     "output_type": "display_data"
    }
   ],
   "source": [
    "reg.fit(X, y)\n",
    "\n",
    "# Create scatter plots\n",
    "fig, axs = plt.subplots(1, 3, figsize=(15, 5))\n",
    "axs[0].scatter(X, y['Collaboration'])\n",
    "axs[1].scatter(X, y['Task_fulfillment'])\n",
    "axs[2].scatter(X, y['Nodes'])\n",
    "\n",
    "# labels\n",
    "axs[0].set_xlabel('Std')\n",
    "axs[0].set_ylabel('Collaboration')\n",
    "axs[1].set_xlabel('Std')\n",
    "axs[1].set_ylabel('Task fulfillment')\n",
    "axs[2].set_xlabel('Std')\n",
    "axs[2].set_ylabel('Nodes')\n",
    "\n",
    "\n",
    "#add vertical line for median GSR variance\n",
    "axs[0].axvline(x=0.507099, ymin=0, ymax=1, color='black', linestyle='--')\n",
    "axs[0].text(0.507099, 0, 'Median', rotation=90, fontsize=8, color='black', ha='left', va='bottom')\n",
    "axs[1].axvline(x=0.507099, ymin=0, ymax=1, color='black', linestyle='--')\n",
    "axs[1].text(0.507099, 0, 'Median', rotation=90, fontsize=8, color='black', ha='left', va='bottom')\n",
    "axs[2].axvline(x=0.507099, ymin=0, ymax=1, color='black', linestyle='--')\n",
    "axs[2].text(0.507099, 0, 'Median', rotation=90, fontsize=8, color='black', ha='left', va='bottom')\n",
    "\n",
    "plt.title('Interaction between Std of the GSR Signal and Collaboration per Group')\n",
    "plt.show()\n",
    "\n",
    "#collaboration = array([2.775, 3.8  , 6.125])\n",
    "#std = array([0.4585045, 0.507099 , 0.560327 ])\n",
    "#variance = array([0.2105035 , 0.2571505 , 0.31412675])"
   ]
  },
  {
   "cell_type": "code",
   "execution_count": 714,
   "id": "102a0cec",
   "metadata": {},
   "outputs": [
    {
     "data": {
      "text/plain": [
       "<Figure size 432x288 with 0 Axes>"
      ]
     },
     "metadata": {},
     "output_type": "display_data"
    }
   ],
   "source": [
    "#plt.savefig(\"scatter_collaboration_variance.png\", dpi=900)"
   ]
  },
  {
   "cell_type": "code",
   "execution_count": 18,
   "id": "8a7b1902",
   "metadata": {},
   "outputs": [
    {
     "data": {
      "text/plain": [
       "array([2.775, 3.8  , 6.125])"
      ]
     },
     "execution_count": 18,
     "metadata": {},
     "output_type": "execute_result"
    }
   ],
   "source": [
    "#percentile of collaboration rating\n",
    "x = np.percentile([0.070, 0.066, 0.063, 0.056, 0.043, 0.033,  0.033,  0.026, 0.023, 0.00 ], [25, 50, 75])\n",
    "x*100"
   ]
  },
  {
   "cell_type": "code",
   "execution_count": 32,
   "id": "5df1a3f7",
   "metadata": {},
   "outputs": [
    {
     "name": "stdout",
     "output_type": "stream",
     "text": [
      "Correlation coefficient:  0.2680755677928812\n",
      "p-value:  0.45394110829200696\n"
     ]
    }
   ],
   "source": [
    "#regression coefficient: -1 = strong negative correlation, 0 = no correlation, 1 = strong positive correlation\n",
    "x = data['Standard_Deviation']\n",
    "y = data['Task_fulfillment']\n",
    "corr, p_value = pearsonr(x, y)\n",
    "print(\"Correlation coefficient: \",corr)\n",
    "print(\"p-value: \",p_value)"
   ]
  },
  {
   "cell_type": "code",
   "execution_count": 33,
   "id": "5b4c85ef",
   "metadata": {},
   "outputs": [
    {
     "name": "stdout",
     "output_type": "stream",
     "text": [
      "Correlation coefficient:  -0.6306088855721127\n",
      "p-value:  0.05061320711647442\n"
     ]
    }
   ],
   "source": [
    "x = data['Standard_Deviation']\n",
    "y = data['Collaboration']\n",
    "corr, p_value = pearsonr(x, y)\n",
    "print(\"Correlation coefficient: \",corr)\n",
    "print(\"p-value: \",p_value)"
   ]
  },
  {
   "cell_type": "code",
   "execution_count": 34,
   "id": "daf27f37",
   "metadata": {
    "scrolled": true
   },
   "outputs": [
    {
     "name": "stdout",
     "output_type": "stream",
     "text": [
      "Correlation coefficient:  -0.6604095386743615\n",
      "p-value:  0.037665391852274126\n"
     ]
    }
   ],
   "source": [
    "x = data['Variance']\n",
    "y = data['Collaboration']\n",
    "corr, p_value = pearsonr(x, y)\n",
    "print(\"Correlation coefficient: \",corr)\n",
    "print(\"p-value: \",p_value)"
   ]
  },
  {
   "cell_type": "markdown",
   "id": "f91dd850",
   "metadata": {},
   "source": [
    "Old Correlation coefficient:  -0.4528722339439188\n",
    "p-value:  0.22090622531114976"
   ]
  },
  {
   "cell_type": "code",
   "execution_count": 35,
   "id": "deaebd26",
   "metadata": {},
   "outputs": [
    {
     "name": "stdout",
     "output_type": "stream",
     "text": [
      "Correlation coefficient:  0.3644912324673306\n",
      "p-value:  0.300426428098702\n"
     ]
    }
   ],
   "source": [
    "x = data['Standard_Deviation']\n",
    "y = data['Nodes']\n",
    "corr, p_value = pearsonr(x, y)\n",
    "print(\"Correlation coefficient: \",corr)\n",
    "print(\"p-value: \",p_value)"
   ]
  },
  {
   "cell_type": "markdown",
   "id": "cf9e8407",
   "metadata": {},
   "source": [
    "Old Correlation coefficient:  -0.6883438642108192\n",
    "p-value:  0.04035853448651482\n",
    "\n",
    "\n",
    "In all three graphics, the groups with either very high variance (>0.7) and very low variance (<0.2) performed the worst. The best performances were achieved in the groups with a variance between >0.2 and <0.5."
   ]
  },
  {
   "cell_type": "markdown",
   "id": "66bbe575",
   "metadata": {},
   "source": [
    "# Individual: Variance x Task fulfillment, x Collaboration, x Nodes in Linear Regression"
   ]
  },
  {
   "cell_type": "code",
   "execution_count": 806,
   "id": "482311ea",
   "metadata": {},
   "outputs": [],
   "source": [
    "#load data from CSV files\n",
    "individual_data = pd.read_csv('indi_fullresults.csv',sep=';')"
   ]
  },
  {
   "cell_type": "code",
   "execution_count": 812,
   "id": "ee480073",
   "metadata": {},
   "outputs": [],
   "source": [
    "#individual_data = individual_data.drop([24,25,26])\n",
    "#individual_data.info()"
   ]
  },
  {
   "cell_type": "code",
   "execution_count": 808,
   "id": "3fd6d31a",
   "metadata": {},
   "outputs": [
    {
     "data": {
      "text/plain": [
       "ShapiroResult(statistic=0.9248518943786621, pvalue=0.035902660340070724)"
      ]
     },
     "execution_count": 808,
     "metadata": {},
     "output_type": "execute_result"
    }
   ],
   "source": [
    "#Not normally distributed in individual variance\n",
    "stats.shapiro(individual_data['Variance'])"
   ]
  },
  {
   "cell_type": "code",
   "execution_count": 813,
   "id": "9084ee71",
   "metadata": {},
   "outputs": [
    {
     "name": "stdout",
     "output_type": "stream",
     "text": [
      "[[ 2020.78748005]\n",
      " [22326.54083173]\n",
      " [ 9247.41926411]]\n",
      "[ -2016.93700644 -22321.59864567  -9237.58522364]\n",
      "0.03905904743364452\n",
      "-1.076886642087988\n"
     ]
    }
   ],
   "source": [
    "# Assign the independent and dependent variables\n",
    "X = individual_data[['Standard_Deviation']]\n",
    "y = individual_data[['Collaboration','Task_fulfillment','Nodes']]\n",
    "\n",
    "# Split the data into train and test sets\n",
    "X_train, X_test, y_train, y_test = train_test_split(X, y, test_size=0.2, random_state=100)\n",
    "\n",
    "# Initialize the model\n",
    "reg = LinearRegression()\n",
    "\n",
    "# Fit the model to the train data\n",
    "reg.fit(X_train, y_train)\n",
    "\n",
    "# Predict the test data\n",
    "y_pred = reg.predict(X_test)\n",
    "\n",
    "# print the summary\n",
    "print(reg.coef_)\n",
    "print(reg.intercept_)\n",
    "print(reg.score(X_train, y_train))\n",
    "print(reg.score(X_test, y_test))"
   ]
  },
  {
   "cell_type": "code",
   "execution_count": 814,
   "id": "dcbdee8e",
   "metadata": {},
   "outputs": [
    {
     "data": {
      "image/png": "[encoded data removed]",
      "text/plain": [
       "<Figure size 1080x360 with 3 Axes>"
      ]
     },
     "metadata": {
      "needs_background": "light"
     },
     "output_type": "display_data"
    }
   ],
   "source": [
    "reg.fit(X, y)\n",
    "\n",
    "# scatter plots\n",
    "fig, axs = plt.subplots(1, 3, figsize=(15, 5))\n",
    "axs[0].scatter(X, y['Collaboration'])\n",
    "axs[1].scatter(X, y['Task_fulfillment'])\n",
    "axs[2].scatter(X, y['Nodes'])\n",
    "\n",
    "axs[0].set_xlabel('Standard_Deviation')\n",
    "axs[0].set_ylabel('Collaboration')\n",
    "axs[1].set_xlabel('Standard_Deviation')\n",
    "axs[1].set_ylabel('Task_fulfillment')\n",
    "axs[2].set_xlabel('Standard_Deviation')\n",
    "axs[2].set_ylabel('Nodes')\n",
    "\n",
    "plt.title('Connection between Variance and Collaboration, Task Fulfillment and Nodes')\n",
    "plt.show()"
   ]
  },
  {
   "cell_type": "markdown",
   "id": "158d45c6",
   "metadata": {},
   "source": [
    "The coefficient returns a value between -1 and 1 that represents the limits of correlation from a full negative correlation to a full positive correlation. A value of 0 means no correlation. The value must be interpreted, where often a value below -0.5 or above 0.5 indicates a notable correlation, and values below those values suggests a less notable correlation."
   ]
  },
  {
   "cell_type": "code",
   "execution_count": 815,
   "id": "33d0deef",
   "metadata": {},
   "outputs": [
    {
     "name": "stdout",
     "output_type": "stream",
     "text": [
      "Correlation coefficient:  0.041633490334306716\n",
      "p-value:  0.8270856107387475\n"
     ]
    }
   ],
   "source": [
    "#variance x nodes\n",
    "x = individual_data['Standard_Deviation']\n",
    "y = individual_data['Nodes']\n",
    "corr, p_value = pearsonr(x, y)\n",
    "print(\"Correlation coefficient: \",corr)\n",
    "print(\"p-value: \",p_value)"
   ]
  },
  {
   "cell_type": "code",
   "execution_count": 846,
   "id": "15e4fc4e",
   "metadata": {},
   "outputs": [
    {
     "name": "stdout",
     "output_type": "stream",
     "text": [
      "Correlation coefficient:  0.007864795624685353\n",
      "p-value:  0.9670986805331833\n"
     ]
    }
   ],
   "source": [
    "#variance x collaboration\n",
    "x = individual_data['Variance']\n",
    "y = individual_data['Collaboration']\n",
    "corr, p_value = pearsonr(x, y)\n",
    "print(\"Correlation coefficient: \",corr)\n",
    "print(\"p-value: \",p_value)"
   ]
  },
  {
   "cell_type": "code",
   "execution_count": 817,
   "id": "729ccd75",
   "metadata": {},
   "outputs": [
    {
     "name": "stdout",
     "output_type": "stream",
     "text": [
      "Correlation coefficient:  0.18770576001039377\n",
      "p-value:  0.3205705019790431\n"
     ]
    }
   ],
   "source": [
    "#positive linear correlation between variance x task fulfillment\n",
    "x = individual_data['Standard_Deviation']\n",
    "y = individual_data['Task_fulfillment']\n",
    "corr, p_value = pearsonr(x, y)\n",
    "print(\"Correlation coefficient: \",corr)\n",
    "print(\"p-value: \",p_value)"
   ]
  },
  {
   "cell_type": "markdown",
   "id": "af212eca",
   "metadata": {},
   "source": [
    "On an individual level, the data is scattered in all three categories. there is no visible trend detectable, However, due to the extremely individual nature of GSR (there is no “normal” baselines for people) makes it virtually impossible to directly compare GSR measurements across individuals (Bersak, McDarby, Augenblick, McDarby, McDonnell, McDonal and Karkun, 2001). "
   ]
  },
  {
   "cell_type": "markdown",
   "id": "2b67cb6e",
   "metadata": {},
   "source": [
    "# Visualize Dependent x Independet variables"
   ]
  },
  {
   "cell_type": "code",
   "execution_count": 522,
   "id": "553b5732",
   "metadata": {},
   "outputs": [],
   "source": [
    "import plotly.express as px\n",
    "import plotly.graph_objects as go"
   ]
  },
  {
   "cell_type": "code",
   "execution_count": 818,
   "id": "928f5702",
   "metadata": {},
   "outputs": [],
   "source": [
    "cols = ['Variance', 'Collaboration','Task_fulfillment', 'Nodes', 'ID']\n",
    "\n",
    "fig = px.parallel_coordinates(individual_data, color=\"Group\", dimensions=cols,\n",
    "                              title=\"Variance Coordinates Plot\")\n",
    "#fig.show()"
   ]
  },
  {
   "cell_type": "code",
   "execution_count": 479,
   "id": "fcff473b",
   "metadata": {},
   "outputs": [
    {
     "data": {
      "application/vnd.plotly.v1+json": {
       "config": {
        "plotlyServerURL": "https://plot.ly"
       },
       "data": [
        {
         "dimensions": [
          {
           "label": "Variance",
           "values": [
            0.2558433071486532,
            0.3223739530124296,
            0.3363714058259642,
            0.3222282350653342,
            0.2584582927650889,
            0.2015047053629721,
            0.1406418377116449,
            0.2898226722984179,
            0.0843145557821755,
            0.2374990851523326
           ]
          },
          {
           "label": "Collaboration",
           "values": [
            2.6,
            2.3,
            3.3,
            0,
            5.6,
            6.3,
            4.3,
            3.3,
            6.6,
            7
           ]
          },
          {
           "label": "Nodes",
           "values": [
            10,
            5.6,
            15.3,
            11,
            14,
            11,
            8.3,
            13.3,
            8.6,
            9
           ]
          },
          {
           "label": "Task_fulfillment",
           "values": [
            8,
            3,
            13.3,
            6.6,
            6.6,
            11,
            3.3,
            5.3,
            5.3,
            4
           ]
          }
         ],
         "domain": {
          "x": [
           0,
           1
          ],
          "y": [
           0,
           1
          ]
         },
         "line": {
          "color": [
           1,
           2,
           3,
           4,
           5,
           6,
           7,
           8,
           10,
           11
          ],
          "coloraxis": "coloraxis"
         },
         "name": "",
         "type": "parcoords"
        }
       ],
       "layout": {
        "coloraxis": {
         "colorbar": {
          "title": {
           "text": "Group"
          }
         },
         "colorscale": [
          [
           0,
           "#0d0887"
          ],
          [
           0.1111111111111111,
           "#46039f"
          ],
          [
           0.2222222222222222,
           "#7201a8"
          ],
          [
           0.3333333333333333,
           "#9c179e"
          ],
          [
           0.4444444444444444,
           "#bd3786"
          ],
          [
           0.5555555555555556,
           "#d8576b"
          ],
          [
           0.6666666666666666,
           "#ed7953"
          ],
          [
           0.7777777777777778,
           "#fb9f3a"
          ],
          [
           0.8888888888888888,
           "#fdca26"
          ],
          [
           1,
           "#f0f921"
          ]
         ]
        },
        "legend": {
         "tracegroupgap": 0
        },
        "template": {
         "data": {
          "bar": [
           {
            "error_x": {
             "color": "#2a3f5f"
            },
            "error_y": {
             "color": "#2a3f5f"
            },
            "marker": {
             "line": {
              "color": "#E5ECF6",
              "width": 0.5
             }
            },
            "type": "bar"
           }
          ],
          "barpolar": [
           {
            "marker": {
             "line": {
              "color": "#E5ECF6",
              "width": 0.5
             }
            },
            "type": "barpolar"
           }
          ],
          "carpet": [
           {
            "aaxis": {
             "endlinecolor": "#2a3f5f",
             "gridcolor": "white",
             "linecolor": "white",
             "minorgridcolor": "white",
             "startlinecolor": "#2a3f5f"
            },
            "baxis": {
             "endlinecolor": "#2a3f5f",
             "gridcolor": "white",
             "linecolor": "white",
             "minorgridcolor": "white",
             "startlinecolor": "#2a3f5f"
            },
            "type": "carpet"
           }
          ],
          "choropleth": [
           {
            "colorbar": {
             "outlinewidth": 0,
             "ticks": ""
            },
            "type": "choropleth"
           }
          ],
          "contour": [
           {
            "colorbar": {
             "outlinewidth": 0,
             "ticks": ""
            },
            "colorscale": [
             [
              0,
              "#0d0887"
             ],
             [
              0.1111111111111111,
              "#46039f"
             ],
             [
              0.2222222222222222,
              "#7201a8"
             ],
             [
              0.3333333333333333,
              "#9c179e"
             ],
             [
              0.4444444444444444,
              "#bd3786"
             ],
             [
              0.5555555555555556,
              "#d8576b"
             ],
             [
              0.6666666666666666,
              "#ed7953"
             ],
             [
              0.7777777777777778,
              "#fb9f3a"
             ],
             [
              0.8888888888888888,
              "#fdca26"
             ],
             [
              1,
              "#f0f921"
             ]
            ],
            "type": "contour"
           }
          ],
          "contourcarpet": [
           {
            "colorbar": {
             "outlinewidth": 0,
             "ticks": ""
            },
            "type": "contourcarpet"
           }
          ],
          "heatmap": [
           {
            "colorbar": {
             "outlinewidth": 0,
             "ticks": ""
            },
            "colorscale": [
             [
              0,
              "#0d0887"
             ],
             [
              0.1111111111111111,
              "#46039f"
             ],
             [
              0.2222222222222222,
              "#7201a8"
             ],
             [
              0.3333333333333333,
              "#9c179e"
             ],
             [
              0.4444444444444444,
              "#bd3786"
             ],
             [
              0.5555555555555556,
              "#d8576b"
             ],
             [
              0.6666666666666666,
              "#ed7953"
             ],
             [
              0.7777777777777778,
              "#fb9f3a"
             ],
             [
              0.8888888888888888,
              "#fdca26"
             ],
             [
              1,
              "#f0f921"
             ]
            ],
            "type": "heatmap"
           }
          ],
          "heatmapgl": [
           {
            "colorbar": {
             "outlinewidth": 0,
             "ticks": ""
            },
            "colorscale": [
             [
              0,
              "#0d0887"
             ],
             [
              0.1111111111111111,
              "#46039f"
             ],
             [
              0.2222222222222222,
              "#7201a8"
             ],
             [
              0.3333333333333333,
              "#9c179e"
             ],
             [
              0.4444444444444444,
              "#bd3786"
             ],
             [
              0.5555555555555556,
              "#d8576b"
             ],
             [
              0.6666666666666666,
              "#ed7953"
             ],
             [
              0.7777777777777778,
              "#fb9f3a"
             ],
             [
              0.8888888888888888,
              "#fdca26"
             ],
             [
              1,
              "#f0f921"
             ]
            ],
            "type": "heatmapgl"
           }
          ],
          "histogram": [
           {
            "marker": {
             "colorbar": {
              "outlinewidth": 0,
              "ticks": ""
             }
            },
            "type": "histogram"
           }
          ],
          "histogram2d": [
           {
            "colorbar": {
             "outlinewidth": 0,
             "ticks": ""
            },
            "colorscale": [
             [
              0,
              "#0d0887"
             ],
             [
              0.1111111111111111,
              "#46039f"
             ],
             [
              0.2222222222222222,
              "#7201a8"
             ],
             [
              0.3333333333333333,
              "#9c179e"
             ],
             [
              0.4444444444444444,
              "#bd3786"
             ],
             [
              0.5555555555555556,
              "#d8576b"
             ],
             [
              0.6666666666666666,
              "#ed7953"
             ],
             [
              0.7777777777777778,
              "#fb9f3a"
             ],
             [
              0.8888888888888888,
              "#fdca26"
             ],
             [
              1,
              "#f0f921"
             ]
            ],
            "type": "histogram2d"
           }
          ],
          "histogram2dcontour": [
           {
            "colorbar": {
             "outlinewidth": 0,
             "ticks": ""
            },
            "colorscale": [
             [
              0,
              "#0d0887"
             ],
             [
              0.1111111111111111,
              "#46039f"
             ],
             [
              0.2222222222222222,
              "#7201a8"
             ],
             [
              0.3333333333333333,
              "#9c179e"
             ],
             [
              0.4444444444444444,
              "#bd3786"
             ],
             [
              0.5555555555555556,
              "#d8576b"
             ],
             [
              0.6666666666666666,
              "#ed7953"
             ],
             [
              0.7777777777777778,
              "#fb9f3a"
             ],
             [
              0.8888888888888888,
              "#fdca26"
             ],
             [
              1,
              "#f0f921"
             ]
            ],
            "type": "histogram2dcontour"
           }
          ],
          "mesh3d": [
           {
            "colorbar": {
             "outlinewidth": 0,
             "ticks": ""
            },
            "type": "mesh3d"
           }
          ],
          "parcoords": [
           {
            "line": {
             "colorbar": {
              "outlinewidth": 0,
              "ticks": ""
             }
            },
            "type": "parcoords"
           }
          ],
          "pie": [
           {
            "automargin": true,
            "type": "pie"
           }
          ],
          "scatter": [
           {
            "marker": {
             "colorbar": {
              "outlinewidth": 0,
              "ticks": ""
             }
            },
            "type": "scatter"
           }
          ],
          "scatter3d": [
           {
            "line": {
             "colorbar": {
              "outlinewidth": 0,
              "ticks": ""
             }
            },
            "marker": {
             "colorbar": {
              "outlinewidth": 0,
              "ticks": ""
             }
            },
            "type": "scatter3d"
           }
          ],
          "scattercarpet": [
           {
            "marker": {
             "colorbar": {
              "outlinewidth": 0,
              "ticks": ""
             }
            },
            "type": "scattercarpet"
           }
          ],
          "scattergeo": [
           {
            "marker": {
             "colorbar": {
              "outlinewidth": 0,
              "ticks": ""
             }
            },
            "type": "scattergeo"
           }
          ],
          "scattergl": [
           {
            "marker": {
             "colorbar": {
              "outlinewidth": 0,
              "ticks": ""
             }
            },
            "type": "scattergl"
           }
          ],
          "scattermapbox": [
           {
            "marker": {
             "colorbar": {
              "outlinewidth": 0,
              "ticks": ""
             }
            },
            "type": "scattermapbox"
           }
          ],
          "scatterpolar": [
           {
            "marker": {
             "colorbar": {
              "outlinewidth": 0,
              "ticks": ""
             }
            },
            "type": "scatterpolar"
           }
          ],
          "scatterpolargl": [
           {
            "marker": {
             "colorbar": {
              "outlinewidth": 0,
              "ticks": ""
             }
            },
            "type": "scatterpolargl"
           }
          ],
          "scatterternary": [
           {
            "marker": {
             "colorbar": {
              "outlinewidth": 0,
              "ticks": ""
             }
            },
            "type": "scatterternary"
           }
          ],
          "surface": [
           {
            "colorbar": {
             "outlinewidth": 0,
             "ticks": ""
            },
            "colorscale": [
             [
              0,
              "#0d0887"
             ],
             [
              0.1111111111111111,
              "#46039f"
             ],
             [
              0.2222222222222222,
              "#7201a8"
             ],
             [
              0.3333333333333333,
              "#9c179e"
             ],
             [
              0.4444444444444444,
              "#bd3786"
             ],
             [
              0.5555555555555556,
              "#d8576b"
             ],
             [
              0.6666666666666666,
              "#ed7953"
             ],
             [
              0.7777777777777778,
              "#fb9f3a"
             ],
             [
              0.8888888888888888,
              "#fdca26"
             ],
             [
              1,
              "#f0f921"
             ]
            ],
            "type": "surface"
           }
          ],
          "table": [
           {
            "cells": {
             "fill": {
              "color": "#EBF0F8"
             },
             "line": {
              "color": "white"
             }
            },
            "header": {
             "fill": {
              "color": "#C8D4E3"
             },
             "line": {
              "color": "white"
             }
            },
            "type": "table"
           }
          ]
         },
         "layout": {
          "annotationdefaults": {
           "arrowcolor": "#2a3f5f",
           "arrowhead": 0,
           "arrowwidth": 1
          },
          "autotypenumbers": "strict",
          "coloraxis": {
           "colorbar": {
            "outlinewidth": 0,
            "ticks": ""
           }
          },
          "colorscale": {
           "diverging": [
            [
             0,
             "#8e0152"
            ],
            [
             0.1,
             "#c51b7d"
            ],
            [
             0.2,
             "#de77ae"
            ],
            [
             0.3,
             "#f1b6da"
            ],
            [
             0.4,
             "#fde0ef"
            ],
            [
             0.5,
             "#f7f7f7"
            ],
            [
             0.6,
             "#e6f5d0"
            ],
            [
             0.7,
             "#b8e186"
            ],
            [
             0.8,
             "#7fbc41"
            ],
            [
             0.9,
             "#4d9221"
            ],
            [
             1,
             "#276419"
            ]
           ],
           "sequential": [
            [
             0,
             "#0d0887"
            ],
            [
             0.1111111111111111,
             "#46039f"
            ],
            [
             0.2222222222222222,
             "#7201a8"
            ],
            [
             0.3333333333333333,
             "#9c179e"
            ],
            [
             0.4444444444444444,
             "#bd3786"
            ],
            [
             0.5555555555555556,
             "#d8576b"
            ],
            [
             0.6666666666666666,
             "#ed7953"
            ],
            [
             0.7777777777777778,
             "#fb9f3a"
            ],
            [
             0.8888888888888888,
             "#fdca26"
            ],
            [
             1,
             "#f0f921"
            ]
           ],
           "sequentialminus": [
            [
             0,
             "#0d0887"
            ],
            [
             0.1111111111111111,
             "#46039f"
            ],
            [
             0.2222222222222222,
             "#7201a8"
            ],
            [
             0.3333333333333333,
             "#9c179e"
            ],
            [
             0.4444444444444444,
             "#bd3786"
            ],
            [
             0.5555555555555556,
             "#d8576b"
            ],
            [
             0.6666666666666666,
             "#ed7953"
            ],
            [
             0.7777777777777778,
             "#fb9f3a"
            ],
            [
             0.8888888888888888,
             "#fdca26"
            ],
            [
             1,
             "#f0f921"
            ]
           ]
          },
          "colorway": [
           "#636efa",
           "#EF553B",
           "#00cc96",
           "#ab63fa",
           "#FFA15A",
           "#19d3f3",
           "#FF6692",
           "#B6E880",
           "#FF97FF",
           "#FECB52"
          ],
          "font": {
           "color": "#2a3f5f"
          },
          "geo": {
           "bgcolor": "white",
           "lakecolor": "white",
           "landcolor": "#E5ECF6",
           "showlakes": true,
           "showland": true,
           "subunitcolor": "white"
          },
          "hoverlabel": {
           "align": "left"
          },
          "hovermode": "closest",
          "mapbox": {
           "style": "light"
          },
          "paper_bgcolor": "white",
          "plot_bgcolor": "#E5ECF6",
          "polar": {
           "angularaxis": {
            "gridcolor": "white",
            "linecolor": "white",
            "ticks": ""
           },
           "bgcolor": "#E5ECF6",
           "radialaxis": {
            "gridcolor": "white",
            "linecolor": "white",
            "ticks": ""
           }
          },
          "scene": {
           "xaxis": {
            "backgroundcolor": "#E5ECF6",
            "gridcolor": "white",
            "gridwidth": 2,
            "linecolor": "white",
            "showbackground": true,
            "ticks": "",
            "zerolinecolor": "white"
           },
           "yaxis": {
            "backgroundcolor": "#E5ECF6",
            "gridcolor": "white",
            "gridwidth": 2,
            "linecolor": "white",
            "showbackground": true,
            "ticks": "",
            "zerolinecolor": "white"
           },
           "zaxis": {
            "backgroundcolor": "#E5ECF6",
            "gridcolor": "white",
            "gridwidth": 2,
            "linecolor": "white",
            "showbackground": true,
            "ticks": "",
            "zerolinecolor": "white"
           }
          },
          "shapedefaults": {
           "line": {
            "color": "#2a3f5f"
           }
          },
          "ternary": {
           "aaxis": {
            "gridcolor": "white",
            "linecolor": "white",
            "ticks": ""
           },
           "baxis": {
            "gridcolor": "white",
            "linecolor": "white",
            "ticks": ""
           },
           "bgcolor": "#E5ECF6",
           "caxis": {
            "gridcolor": "white",
            "linecolor": "white",
            "ticks": ""
           }
          },
          "title": {
           "x": 0.05
          },
          "xaxis": {
           "automargin": true,
           "gridcolor": "white",
           "linecolor": "white",
           "ticks": "",
           "title": {
            "standoff": 15
           },
           "zerolinecolor": "white",
           "zerolinewidth": 2
          },
          "yaxis": {
           "automargin": true,
           "gridcolor": "white",
           "linecolor": "white",
           "ticks": "",
           "title": {
            "standoff": 15
           },
           "zerolinecolor": "white",
           "zerolinewidth": 2
          }
         }
        },
        "title": {
         "text": "Variance Coordinates Plot"
        }
       }
      },
      "text/html": [
       "<div>                            <div id=\"a3f60110-f104-4b4d-b401-2ed61ed9f7ed\" class=\"plotly-graph-div\" style=\"height:525px; width:100%;\"></div>            <script type=\"text/javascript\">                require([\"plotly\"], function(Plotly) {                    window.PLOTLYENV=window.PLOTLYENV || {};                                    if (document.getElementById(\"a3f60110-f104-4b4d-b401-2ed61ed9f7ed\")) {                    Plotly.newPlot(                        \"a3f60110-f104-4b4d-b401-2ed61ed9f7ed\",                        [{\"dimensions\": [{\"label\": \"Variance\", \"values\": [0.2558433071486532, 0.3223739530124296, 0.3363714058259642, 0.3222282350653342, 0.2584582927650889, 0.2015047053629721, 0.1406418377116449, 0.2898226722984179, 0.0843145557821755, 0.2374990851523326]}, {\"label\": \"Collaboration\", \"values\": [2.6, 2.3, 3.3, 0.0, 5.6, 6.3, 4.3, 3.3, 6.6, 7.0]}, {\"label\": \"Nodes\", \"values\": [10.0, 5.6, 15.3, 11.0, 14.0, 11.0, 8.3, 13.3, 8.6, 9.0]}, {\"label\": \"Task_fulfillment\", \"values\": [8.0, 3.0, 13.3, 6.6, 6.6, 11.0, 3.3, 5.3, 5.3, 4.0]}], \"domain\": {\"x\": [0.0, 1.0], \"y\": [0.0, 1.0]}, \"line\": {\"color\": [1.0, 2.0, 3.0, 4.0, 5.0, 6.0, 7.0, 8.0, 10.0, 11.0], \"coloraxis\": \"coloraxis\"}, \"name\": \"\", \"type\": \"parcoords\"}],                        {\"coloraxis\": {\"colorbar\": {\"title\": {\"text\": \"Group\"}}, \"colorscale\": [[0.0, \"#0d0887\"], [0.1111111111111111, \"#46039f\"], [0.2222222222222222, \"#7201a8\"], [0.3333333333333333, \"#9c179e\"], [0.4444444444444444, \"#bd3786\"], [0.5555555555555556, \"#d8576b\"], [0.6666666666666666, \"#ed7953\"], [0.7777777777777778, \"#fb9f3a\"], [0.8888888888888888, \"#fdca26\"], [1.0, \"#f0f921\"]]}, \"legend\": {\"tracegroupgap\": 0}, \"template\": {\"data\": {\"bar\": [{\"error_x\": {\"color\": \"#2a3f5f\"}, \"error_y\": {\"color\": \"#2a3f5f\"}, \"marker\": {\"line\": {\"color\": \"#E5ECF6\", \"width\": 0.5}}, \"type\": \"bar\"}], \"barpolar\": [{\"marker\": {\"line\": {\"color\": \"#E5ECF6\", \"width\": 0.5}}, \"type\": \"barpolar\"}], \"carpet\": [{\"aaxis\": {\"endlinecolor\": \"#2a3f5f\", \"gridcolor\": \"white\", \"linecolor\": \"white\", \"minorgridcolor\": \"white\", \"startlinecolor\": \"#2a3f5f\"}, \"baxis\": {\"endlinecolor\": \"#2a3f5f\", \"gridcolor\": \"white\", \"linecolor\": \"white\", \"minorgridcolor\": \"white\", \"startlinecolor\": \"#2a3f5f\"}, \"type\": \"carpet\"}], \"choropleth\": [{\"colorbar\": {\"outlinewidth\": 0, \"ticks\": \"\"}, \"type\": \"choropleth\"}], \"contour\": [{\"colorbar\": {\"outlinewidth\": 0, \"ticks\": \"\"}, \"colorscale\": [[0.0, \"#0d0887\"], [0.1111111111111111, \"#46039f\"], [0.2222222222222222, \"#7201a8\"], [0.3333333333333333, \"#9c179e\"], [0.4444444444444444, \"#bd3786\"], [0.5555555555555556, \"#d8576b\"], [0.6666666666666666, \"#ed7953\"], [0.7777777777777778, \"#fb9f3a\"], [0.8888888888888888, \"#fdca26\"], [1.0, \"#f0f921\"]], \"type\": \"contour\"}], \"contourcarpet\": [{\"colorbar\": {\"outlinewidth\": 0, \"ticks\": \"\"}, \"type\": \"contourcarpet\"}], \"heatmap\": [{\"colorbar\": {\"outlinewidth\": 0, \"ticks\": \"\"}, \"colorscale\": [[0.0, \"#0d0887\"], [0.1111111111111111, \"#46039f\"], [0.2222222222222222, \"#7201a8\"], [0.3333333333333333, \"#9c179e\"], [0.4444444444444444, \"#bd3786\"], [0.5555555555555556, \"#d8576b\"], [0.6666666666666666, \"#ed7953\"], [0.7777777777777778, \"#fb9f3a\"], [0.8888888888888888, \"#fdca26\"], [1.0, \"#f0f921\"]], \"type\": \"heatmap\"}], \"heatmapgl\": [{\"colorbar\": {\"outlinewidth\": 0, \"ticks\": \"\"}, \"colorscale\": [[0.0, \"#0d0887\"], [0.1111111111111111, \"#46039f\"], [0.2222222222222222, \"#7201a8\"], [0.3333333333333333, \"#9c179e\"], [0.4444444444444444, \"#bd3786\"], [0.5555555555555556, \"#d8576b\"], [0.6666666666666666, \"#ed7953\"], [0.7777777777777778, \"#fb9f3a\"], [0.8888888888888888, \"#fdca26\"], [1.0, \"#f0f921\"]], \"type\": \"heatmapgl\"}], \"histogram\": [{\"marker\": {\"colorbar\": {\"outlinewidth\": 0, \"ticks\": \"\"}}, \"type\": \"histogram\"}], \"histogram2d\": [{\"colorbar\": {\"outlinewidth\": 0, \"ticks\": \"\"}, \"colorscale\": [[0.0, \"#0d0887\"], [0.1111111111111111, \"#46039f\"], [0.2222222222222222, \"#7201a8\"], [0.3333333333333333, \"#9c179e\"], [0.4444444444444444, \"#bd3786\"], [0.5555555555555556, \"#d8576b\"], [0.6666666666666666, \"#ed7953\"], [0.7777777777777778, \"#fb9f3a\"], [0.8888888888888888, \"#fdca26\"], [1.0, \"#f0f921\"]], \"type\": \"histogram2d\"}], \"histogram2dcontour\": [{\"colorbar\": {\"outlinewidth\": 0, \"ticks\": \"\"}, \"colorscale\": [[0.0, \"#0d0887\"], [0.1111111111111111, \"#46039f\"], [0.2222222222222222, \"#7201a8\"], [0.3333333333333333, \"#9c179e\"], [0.4444444444444444, \"#bd3786\"], [0.5555555555555556, \"#d8576b\"], [0.6666666666666666, \"#ed7953\"], [0.7777777777777778, \"#fb9f3a\"], [0.8888888888888888, \"#fdca26\"], [1.0, \"#f0f921\"]], \"type\": \"histogram2dcontour\"}], \"mesh3d\": [{\"colorbar\": {\"outlinewidth\": 0, \"ticks\": \"\"}, \"type\": \"mesh3d\"}], \"parcoords\": [{\"line\": {\"colorbar\": {\"outlinewidth\": 0, \"ticks\": \"\"}}, \"type\": \"parcoords\"}], \"pie\": [{\"automargin\": true, \"type\": \"pie\"}], \"scatter\": [{\"marker\": {\"colorbar\": {\"outlinewidth\": 0, \"ticks\": \"\"}}, \"type\": \"scatter\"}], \"scatter3d\": [{\"line\": {\"colorbar\": {\"outlinewidth\": 0, \"ticks\": \"\"}}, \"marker\": {\"colorbar\": {\"outlinewidth\": 0, \"ticks\": \"\"}}, \"type\": \"scatter3d\"}], \"scattercarpet\": [{\"marker\": {\"colorbar\": {\"outlinewidth\": 0, \"ticks\": \"\"}}, \"type\": \"scattercarpet\"}], \"scattergeo\": [{\"marker\": {\"colorbar\": {\"outlinewidth\": 0, \"ticks\": \"\"}}, \"type\": \"scattergeo\"}], \"scattergl\": [{\"marker\": {\"colorbar\": {\"outlinewidth\": 0, \"ticks\": \"\"}}, \"type\": \"scattergl\"}], \"scattermapbox\": [{\"marker\": {\"colorbar\": {\"outlinewidth\": 0, \"ticks\": \"\"}}, \"type\": \"scattermapbox\"}], \"scatterpolar\": [{\"marker\": {\"colorbar\": {\"outlinewidth\": 0, \"ticks\": \"\"}}, \"type\": \"scatterpolar\"}], \"scatterpolargl\": [{\"marker\": {\"colorbar\": {\"outlinewidth\": 0, \"ticks\": \"\"}}, \"type\": \"scatterpolargl\"}], \"scatterternary\": [{\"marker\": {\"colorbar\": {\"outlinewidth\": 0, \"ticks\": \"\"}}, \"type\": \"scatterternary\"}], \"surface\": [{\"colorbar\": {\"outlinewidth\": 0, \"ticks\": \"\"}, \"colorscale\": [[0.0, \"#0d0887\"], [0.1111111111111111, \"#46039f\"], [0.2222222222222222, \"#7201a8\"], [0.3333333333333333, \"#9c179e\"], [0.4444444444444444, \"#bd3786\"], [0.5555555555555556, \"#d8576b\"], [0.6666666666666666, \"#ed7953\"], [0.7777777777777778, \"#fb9f3a\"], [0.8888888888888888, \"#fdca26\"], [1.0, \"#f0f921\"]], \"type\": \"surface\"}], \"table\": [{\"cells\": {\"fill\": {\"color\": \"#EBF0F8\"}, \"line\": {\"color\": \"white\"}}, \"header\": {\"fill\": {\"color\": \"#C8D4E3\"}, \"line\": {\"color\": \"white\"}}, \"type\": \"table\"}]}, \"layout\": {\"annotationdefaults\": {\"arrowcolor\": \"#2a3f5f\", \"arrowhead\": 0, \"arrowwidth\": 1}, \"autotypenumbers\": \"strict\", \"coloraxis\": {\"colorbar\": {\"outlinewidth\": 0, \"ticks\": \"\"}}, \"colorscale\": {\"diverging\": [[0, \"#8e0152\"], [0.1, \"#c51b7d\"], [0.2, \"#de77ae\"], [0.3, \"#f1b6da\"], [0.4, \"#fde0ef\"], [0.5, \"#f7f7f7\"], [0.6, \"#e6f5d0\"], [0.7, \"#b8e186\"], [0.8, \"#7fbc41\"], [0.9, \"#4d9221\"], [1, \"#276419\"]], \"sequential\": [[0.0, \"#0d0887\"], [0.1111111111111111, \"#46039f\"], [0.2222222222222222, \"#7201a8\"], [0.3333333333333333, \"#9c179e\"], [0.4444444444444444, \"#bd3786\"], [0.5555555555555556, \"#d8576b\"], [0.6666666666666666, \"#ed7953\"], [0.7777777777777778, \"#fb9f3a\"], [0.8888888888888888, \"#fdca26\"], [1.0, \"#f0f921\"]], \"sequentialminus\": [[0.0, \"#0d0887\"], [0.1111111111111111, \"#46039f\"], [0.2222222222222222, \"#7201a8\"], [0.3333333333333333, \"#9c179e\"], [0.4444444444444444, \"#bd3786\"], [0.5555555555555556, \"#d8576b\"], [0.6666666666666666, \"#ed7953\"], [0.7777777777777778, \"#fb9f3a\"], [0.8888888888888888, \"#fdca26\"], [1.0, \"#f0f921\"]]}, \"colorway\": [\"#636efa\", \"#EF553B\", \"#00cc96\", \"#ab63fa\", \"#FFA15A\", \"#19d3f3\", \"#FF6692\", \"#B6E880\", \"#FF97FF\", \"#FECB52\"], \"font\": {\"color\": \"#2a3f5f\"}, \"geo\": {\"bgcolor\": \"white\", \"lakecolor\": \"white\", \"landcolor\": \"#E5ECF6\", \"showlakes\": true, \"showland\": true, \"subunitcolor\": \"white\"}, \"hoverlabel\": {\"align\": \"left\"}, \"hovermode\": \"closest\", \"mapbox\": {\"style\": \"light\"}, \"paper_bgcolor\": \"white\", \"plot_bgcolor\": \"#E5ECF6\", \"polar\": {\"angularaxis\": {\"gridcolor\": \"white\", \"linecolor\": \"white\", \"ticks\": \"\"}, \"bgcolor\": \"#E5ECF6\", \"radialaxis\": {\"gridcolor\": \"white\", \"linecolor\": \"white\", \"ticks\": \"\"}}, \"scene\": {\"xaxis\": {\"backgroundcolor\": \"#E5ECF6\", \"gridcolor\": \"white\", \"gridwidth\": 2, \"linecolor\": \"white\", \"showbackground\": true, \"ticks\": \"\", \"zerolinecolor\": \"white\"}, \"yaxis\": {\"backgroundcolor\": \"#E5ECF6\", \"gridcolor\": \"white\", \"gridwidth\": 2, \"linecolor\": \"white\", \"showbackground\": true, \"ticks\": \"\", \"zerolinecolor\": \"white\"}, \"zaxis\": {\"backgroundcolor\": \"#E5ECF6\", \"gridcolor\": \"white\", \"gridwidth\": 2, \"linecolor\": \"white\", \"showbackground\": true, \"ticks\": \"\", \"zerolinecolor\": \"white\"}}, \"shapedefaults\": {\"line\": {\"color\": \"#2a3f5f\"}}, \"ternary\": {\"aaxis\": {\"gridcolor\": \"white\", \"linecolor\": \"white\", \"ticks\": \"\"}, \"baxis\": {\"gridcolor\": \"white\", \"linecolor\": \"white\", \"ticks\": \"\"}, \"bgcolor\": \"#E5ECF6\", \"caxis\": {\"gridcolor\": \"white\", \"linecolor\": \"white\", \"ticks\": \"\"}}, \"title\": {\"x\": 0.05}, \"xaxis\": {\"automargin\": true, \"gridcolor\": \"white\", \"linecolor\": \"white\", \"ticks\": \"\", \"title\": {\"standoff\": 15}, \"zerolinecolor\": \"white\", \"zerolinewidth\": 2}, \"yaxis\": {\"automargin\": true, \"gridcolor\": \"white\", \"linecolor\": \"white\", \"ticks\": \"\", \"title\": {\"standoff\": 15}, \"zerolinecolor\": \"white\", \"zerolinewidth\": 2}}}, \"title\": {\"text\": \"Variance Coordinates Plot\"}},                        {\"responsive\": true}                    ).then(function(){\n",
       "                            \n",
       "var gd = document.getElementById('a3f60110-f104-4b4d-b401-2ed61ed9f7ed');\n",
       "var x = new MutationObserver(function (mutations, observer) {{\n",
       "        var display = window.getComputedStyle(gd).display;\n",
       "        if (!display || display === 'none') {{\n",
       "            console.log([gd, 'removed!']);\n",
       "            Plotly.purge(gd);\n",
       "            observer.disconnect();\n",
       "        }}\n",
       "}});\n",
       "\n",
       "// Listen for the removal of the full notebook cells\n",
       "var notebookContainer = gd.closest('#notebook-container');\n",
       "if (notebookContainer) {{\n",
       "    x.observe(notebookContainer, {childList: true});\n",
       "}}\n",
       "\n",
       "// Listen for the clearing of the current output cell\n",
       "var outputEl = gd.closest('.output');\n",
       "if (outputEl) {{\n",
       "    x.observe(outputEl, {childList: true});\n",
       "}}\n",
       "\n",
       "                        })                };                });            </script>        </div>"
      ]
     },
     "metadata": {},
     "output_type": "display_data"
    }
   ],
   "source": [
    "cols = ['Variance','Collaboration','Nodes','Task_fulfillment']\n",
    "\n",
    "fig = px.parallel_coordinates(data, color=\"Group\", dimensions=cols,\n",
    "                              title=\"Variance Coordinates Plot\")\n",
    "fig.show()"
   ]
  },
  {
   "cell_type": "markdown",
   "id": "05074eca",
   "metadata": {},
   "source": [
    "# Rating of the Performance"
   ]
  },
  {
   "cell_type": "code",
   "execution_count": 587,
   "id": "4a7adaf2",
   "metadata": {},
   "outputs": [],
   "source": [
    "#load data from CSV files\n",
    "gsr_data2 = pd.read_csv('variance_and_performance.csv')\n",
    "performance_data2 = pd.read_excel('efficiency.xlsx')"
   ]
  },
  {
   "cell_type": "code",
   "execution_count": 590,
   "id": "1fd3ec73",
   "metadata": {},
   "outputs": [],
   "source": [
    "#merge the two data sets on a common Group column\n",
    "data2 = gsr_data.merge(performance_data2, how='outer',on = 'Group')\n",
    "data2 = data2.drop([8])\n",
    "#values = {\"Collaboration\": 0.00, \"Task fulfillment\": 6.50, \"Nodes\": 11.00}\n",
    "#data2 = data2.fillna(value=values)\n",
    "#data.drop(data.tail(1).index,inplace=True)\n",
    "#data2"
   ]
  },
  {
   "cell_type": "code",
   "execution_count": 589,
   "id": "cd55ed93",
   "metadata": {},
   "outputs": [
    {
     "data": {
      "text/html": [
       "<div>\n",
       "<style scoped>\n",
       "    .dataframe tbody tr th:only-of-type {\n",
       "        vertical-align: middle;\n",
       "    }\n",
       "\n",
       "    .dataframe tbody tr th {\n",
       "        vertical-align: top;\n",
       "    }\n",
       "\n",
       "    .dataframe thead th {\n",
       "        text-align: right;\n",
       "    }\n",
       "</style>\n",
       "<table border=\"1\" class=\"dataframe\">\n",
       "  <thead>\n",
       "    <tr style=\"text-align: right;\">\n",
       "      <th></th>\n",
       "      <th>Group</th>\n",
       "      <th>Variance</th>\n",
       "      <th>Mean</th>\n",
       "      <th>Standard_Deviation</th>\n",
       "      <th>Collaboration</th>\n",
       "      <th>Task_fulfillment</th>\n",
       "      <th>Nodes</th>\n",
       "      <th>total_performance</th>\n",
       "    </tr>\n",
       "  </thead>\n",
       "  <tbody>\n",
       "    <tr>\n",
       "      <th>10</th>\n",
       "      <td>11.0</td>\n",
       "      <td>0.237499</td>\n",
       "      <td>0.232470</td>\n",
       "      <td>0.487339</td>\n",
       "      <td>7.0</td>\n",
       "      <td>4.0</td>\n",
       "      <td>9.0</td>\n",
       "      <td>6.67</td>\n",
       "    </tr>\n",
       "    <tr>\n",
       "      <th>9</th>\n",
       "      <td>10.0</td>\n",
       "      <td>0.084315</td>\n",
       "      <td>0.657878</td>\n",
       "      <td>0.290370</td>\n",
       "      <td>6.6</td>\n",
       "      <td>5.3</td>\n",
       "      <td>8.6</td>\n",
       "      <td>6,83</td>\n",
       "    </tr>\n",
       "    <tr>\n",
       "      <th>5</th>\n",
       "      <td>6.0</td>\n",
       "      <td>0.201505</td>\n",
       "      <td>0.317646</td>\n",
       "      <td>0.448893</td>\n",
       "      <td>6.3</td>\n",
       "      <td>11.0</td>\n",
       "      <td>11.0</td>\n",
       "      <td>9.43</td>\n",
       "    </tr>\n",
       "    <tr>\n",
       "      <th>4</th>\n",
       "      <td>5.0</td>\n",
       "      <td>0.258458</td>\n",
       "      <td>-0.086729</td>\n",
       "      <td>0.508388</td>\n",
       "      <td>5.6</td>\n",
       "      <td>6.6</td>\n",
       "      <td>14.0</td>\n",
       "      <td>8.73</td>\n",
       "    </tr>\n",
       "    <tr>\n",
       "      <th>6</th>\n",
       "      <td>7.0</td>\n",
       "      <td>0.140642</td>\n",
       "      <td>0.494338</td>\n",
       "      <td>0.375022</td>\n",
       "      <td>4.3</td>\n",
       "      <td>3.3</td>\n",
       "      <td>8.3</td>\n",
       "      <td>5.30</td>\n",
       "    </tr>\n",
       "    <tr>\n",
       "      <th>2</th>\n",
       "      <td>3.0</td>\n",
       "      <td>0.336371</td>\n",
       "      <td>-0.001206</td>\n",
       "      <td>0.579975</td>\n",
       "      <td>3.3</td>\n",
       "      <td>13.3</td>\n",
       "      <td>15.3</td>\n",
       "      <td>10.63</td>\n",
       "    </tr>\n",
       "    <tr>\n",
       "      <th>7</th>\n",
       "      <td>8.0</td>\n",
       "      <td>0.289823</td>\n",
       "      <td>0.229220</td>\n",
       "      <td>0.538352</td>\n",
       "      <td>3.3</td>\n",
       "      <td>5.3</td>\n",
       "      <td>13.3</td>\n",
       "      <td>7.3</td>\n",
       "    </tr>\n",
       "    <tr>\n",
       "      <th>0</th>\n",
       "      <td>1.0</td>\n",
       "      <td>0.255843</td>\n",
       "      <td>-0.301450</td>\n",
       "      <td>0.505810</td>\n",
       "      <td>2.6</td>\n",
       "      <td>8.0</td>\n",
       "      <td>10.0</td>\n",
       "      <td>6.92</td>\n",
       "    </tr>\n",
       "    <tr>\n",
       "      <th>1</th>\n",
       "      <td>2.0</td>\n",
       "      <td>0.322374</td>\n",
       "      <td>0.386465</td>\n",
       "      <td>0.567780</td>\n",
       "      <td>2.3</td>\n",
       "      <td>3.0</td>\n",
       "      <td>5.6</td>\n",
       "      <td>3.60</td>\n",
       "    </tr>\n",
       "    <tr>\n",
       "      <th>3</th>\n",
       "      <td>4.0</td>\n",
       "      <td>0.322228</td>\n",
       "      <td>0.025738</td>\n",
       "      <td>0.567652</td>\n",
       "      <td>0.0</td>\n",
       "      <td>6.6</td>\n",
       "      <td>11.0</td>\n",
       "      <td>5.83</td>\n",
       "    </tr>\n",
       "  </tbody>\n",
       "</table>\n",
       "</div>"
      ],
      "text/plain": [
       "    Group  Variance      Mean  Standard_Deviation  Collaboration  \\\n",
       "10   11.0  0.237499  0.232470            0.487339            7.0   \n",
       "9    10.0  0.084315  0.657878            0.290370            6.6   \n",
       "5     6.0  0.201505  0.317646            0.448893            6.3   \n",
       "4     5.0  0.258458 -0.086729            0.508388            5.6   \n",
       "6     7.0  0.140642  0.494338            0.375022            4.3   \n",
       "2     3.0  0.336371 -0.001206            0.579975            3.3   \n",
       "7     8.0  0.289823  0.229220            0.538352            3.3   \n",
       "0     1.0  0.255843 -0.301450            0.505810            2.6   \n",
       "1     2.0  0.322374  0.386465            0.567780            2.3   \n",
       "3     4.0  0.322228  0.025738            0.567652            0.0   \n",
       "\n",
       "    Task_fulfillment  Nodes total_performance  \n",
       "10               4.0    9.0              6.67  \n",
       "9                5.3    8.6              6,83  \n",
       "5               11.0   11.0              9.43  \n",
       "4                6.6   14.0              8.73  \n",
       "6                3.3    8.3              5.30  \n",
       "2               13.3   15.3             10.63  \n",
       "7                5.3   13.3               7.3  \n",
       "0                8.0   10.0              6.92  \n",
       "1                3.0    5.6              3.60  \n",
       "3                6.6   11.0              5.83  "
      ]
     },
     "execution_count": 589,
     "metadata": {},
     "output_type": "execute_result"
    }
   ],
   "source": [
    "data2 = data.sort_values('Collaboration', ascending = False)\n",
    "data2"
   ]
  },
  {
   "cell_type": "markdown",
   "id": "55eefc31",
   "metadata": {},
   "source": [
    "calculating the quartile to benchmark overall good results in all three categories(collaboration, task fulfillment, nodes) vs bad results: everything below 5.2 is a bad result (lowest quartile), everyting from 5.2 to 5.83 is a medium bad result, everything between 5.83 to 8.73 is a medium good result and everyting from 8.73 upwards is a good result\n",
    "\n",
    "5.83 is the median for total performance\n",
    "\n",
    "3 is the median for collaboration"
   ]
  },
  {
   "cell_type": "code",
   "execution_count": 543,
   "id": "ceb705a1",
   "metadata": {},
   "outputs": [
    {
     "data": {
      "text/plain": [
       "array([2.775, 3.8  , 6.125])"
      ]
     },
     "execution_count": 543,
     "metadata": {},
     "output_type": "execute_result"
    }
   ],
   "source": [
    "#percentile of collaboration rating\n",
    "x = np.percentile([0.070, 0.066, 0.063, 0.056, 0.043, 0.033,  0.033,  0.026, 0.023, 0.00 ], [25, 50, 75])\n",
    "x*100"
   ]
  },
  {
   "cell_type": "code",
   "execution_count": 591,
   "id": "90c0891c",
   "metadata": {},
   "outputs": [
    {
     "data": {
      "text/plain": [
       "array([0.2105035 , 0.2571505 , 0.31412675])"
      ]
     },
     "execution_count": 591,
     "metadata": {},
     "output_type": "execute_result"
    }
   ],
   "source": [
    "#percentile of the variance rating\n",
    "y = np.percentile([0.237499, 0.084315, 0.201505, 0.258458, 0.140642, 0.336371,  0.289823,  0.255843, 0.322374, 0.322228], [25, 50, 75])\n",
    "y"
   ]
  },
  {
   "cell_type": "code",
   "execution_count": 592,
   "id": "fb1e93b0",
   "metadata": {},
   "outputs": [
    {
     "data": {
      "text/plain": [
       "array([0.4585045, 0.507099 , 0.560327 ])"
      ]
     },
     "execution_count": 592,
     "metadata": {},
     "output_type": "execute_result"
    }
   ],
   "source": [
    "#percentile of the std\n",
    "y = np.percentile([0.487339, 0.290370, 0.448893, 0.508388, 0.375022, 0.579975,  0.538352,  0.505810, 0.567780, 0.567652], [25, 50, 75])\n",
    "y"
   ]
  },
  {
   "cell_type": "code",
   "execution_count": 671,
   "id": "e85fefa5",
   "metadata": {},
   "outputs": [
    {
     "data": {
      "text/html": [
       "<div>\n",
       "<style scoped>\n",
       "    .dataframe tbody tr th:only-of-type {\n",
       "        vertical-align: middle;\n",
       "    }\n",
       "\n",
       "    .dataframe tbody tr th {\n",
       "        vertical-align: top;\n",
       "    }\n",
       "\n",
       "    .dataframe thead th {\n",
       "        text-align: right;\n",
       "    }\n",
       "</style>\n",
       "<table border=\"1\" class=\"dataframe\">\n",
       "  <thead>\n",
       "    <tr style=\"text-align: right;\">\n",
       "      <th></th>\n",
       "      <th>GROUP</th>\n",
       "      <th>variance</th>\n",
       "      <th>Collaboration</th>\n",
       "      <th>Task_fulfillment</th>\n",
       "      <th>Nodes</th>\n",
       "      <th>total_performance</th>\n",
       "      <th>collab rating</th>\n",
       "      <th>total rating</th>\n",
       "    </tr>\n",
       "  </thead>\n",
       "  <tbody>\n",
       "    <tr>\n",
       "      <th>3</th>\n",
       "      <td>4.0</td>\n",
       "      <td>0.336371</td>\n",
       "      <td>3.30</td>\n",
       "      <td>13.30</td>\n",
       "      <td>15.30</td>\n",
       "      <td>10.63</td>\n",
       "      <td>2.0</td>\n",
       "      <td>1.0</td>\n",
       "    </tr>\n",
       "    <tr>\n",
       "      <th>6</th>\n",
       "      <td>7.0</td>\n",
       "      <td>0.201505</td>\n",
       "      <td>6.30</td>\n",
       "      <td>11.00</td>\n",
       "      <td>11.00</td>\n",
       "      <td>9.43</td>\n",
       "      <td>1.0</td>\n",
       "      <td>1.0</td>\n",
       "    </tr>\n",
       "    <tr>\n",
       "      <th>5</th>\n",
       "      <td>6.0</td>\n",
       "      <td>0.258458</td>\n",
       "      <td>5.60</td>\n",
       "      <td>6.60</td>\n",
       "      <td>14.00</td>\n",
       "      <td>8.73</td>\n",
       "      <td>1.0</td>\n",
       "      <td>1.0</td>\n",
       "    </tr>\n",
       "    <tr>\n",
       "      <th>0</th>\n",
       "      <td>1.0</td>\n",
       "      <td>0.499816</td>\n",
       "      <td>2.75</td>\n",
       "      <td>8.00</td>\n",
       "      <td>10.00</td>\n",
       "      <td>6.92</td>\n",
       "      <td>3.0</td>\n",
       "      <td>2.0</td>\n",
       "    </tr>\n",
       "    <tr>\n",
       "      <th>4</th>\n",
       "      <td>5.0</td>\n",
       "      <td>0.322228</td>\n",
       "      <td>0.00</td>\n",
       "      <td>6.50</td>\n",
       "      <td>11.00</td>\n",
       "      <td>5.83</td>\n",
       "      <td>4.0</td>\n",
       "      <td>2.0</td>\n",
       "    </tr>\n",
       "    <tr>\n",
       "      <th>7</th>\n",
       "      <td>8.0</td>\n",
       "      <td>0.140642</td>\n",
       "      <td>4.30</td>\n",
       "      <td>3.30</td>\n",
       "      <td>8.30</td>\n",
       "      <td>5.30</td>\n",
       "      <td>1.0</td>\n",
       "      <td>3.0</td>\n",
       "    </tr>\n",
       "    <tr>\n",
       "      <th>8</th>\n",
       "      <td>9.0</td>\n",
       "      <td>0.289823</td>\n",
       "      <td>2.30</td>\n",
       "      <td>0.00</td>\n",
       "      <td>13.30</td>\n",
       "      <td>5.20</td>\n",
       "      <td>3.0</td>\n",
       "      <td>3.0</td>\n",
       "    </tr>\n",
       "    <tr>\n",
       "      <th>1</th>\n",
       "      <td>2.0</td>\n",
       "      <td>0.754599</td>\n",
       "      <td>3.75</td>\n",
       "      <td>1.75</td>\n",
       "      <td>5.75</td>\n",
       "      <td>3.75</td>\n",
       "      <td>2.0</td>\n",
       "      <td>4.0</td>\n",
       "    </tr>\n",
       "    <tr>\n",
       "      <th>2</th>\n",
       "      <td>3.0</td>\n",
       "      <td>1.000284</td>\n",
       "      <td>1.00</td>\n",
       "      <td>4.00</td>\n",
       "      <td>5.50</td>\n",
       "      <td>3.50</td>\n",
       "      <td>4.0</td>\n",
       "      <td>4.0</td>\n",
       "    </tr>\n",
       "  </tbody>\n",
       "</table>\n",
       "</div>"
      ],
      "text/plain": [
       "   GROUP  variance  Collaboration  Task_fulfillment  Nodes  total_performance  \\\n",
       "3    4.0  0.336371           3.30             13.30  15.30              10.63   \n",
       "6    7.0  0.201505           6.30             11.00  11.00               9.43   \n",
       "5    6.0  0.258458           5.60              6.60  14.00               8.73   \n",
       "0    1.0  0.499816           2.75              8.00  10.00               6.92   \n",
       "4    5.0  0.322228           0.00              6.50  11.00               5.83   \n",
       "7    8.0  0.140642           4.30              3.30   8.30               5.30   \n",
       "8    9.0  0.289823           2.30              0.00  13.30               5.20   \n",
       "1    2.0  0.754599           3.75              1.75   5.75               3.75   \n",
       "2    3.0  1.000284           1.00              4.00   5.50               3.50   \n",
       "\n",
       "  collab rating total rating  \n",
       "3           2.0          1.0  \n",
       "6           1.0          1.0  \n",
       "5           1.0          1.0  \n",
       "0           3.0          2.0  \n",
       "4           4.0          2.0  \n",
       "7           1.0          3.0  \n",
       "8           3.0          3.0  \n",
       "1           2.0          4.0  \n",
       "2           4.0          4.0  "
      ]
     },
     "execution_count": 671,
     "metadata": {},
     "output_type": "execute_result"
    }
   ],
   "source": [
    "collab_rating = ['2.0','1.0','1.0','3.0','4.0','1.0','3.0','2.0','4.0']\n",
    "data2['collab rating'] = collab_rating\n",
    "\n",
    "total_rating = ['1.0','1.0','1.0','2.0','2.0','3.0','3.0','4.0','4.0']\n",
    "data2['total rating'] = total_rating\n",
    "\n",
    "data2"
   ]
  },
  {
   "cell_type": "code",
   "execution_count": 279,
   "id": "f5d1dd95",
   "metadata": {},
   "outputs": [
    {
     "data": {
      "image/png": "[encoded data removed]",
      "text/plain": [
       "<Figure size 576x576 with 1 Axes>"
      ]
     },
     "metadata": {
      "needs_background": "light"
     },
     "output_type": "display_data"
    }
   ],
   "source": [
    "#boxplot = data2.boxplot(column = ['total_performance','Collaboration', 'Task fulfillment', 'Nodes'])\n",
    "boxplot = data2.boxplot(column = ['total_performance','Collaboration', 'Task fulfillment', 'Nodes'],grid=True, figsize=(8,8), rot=45, fontsize=12) "
   ]
  },
  {
   "cell_type": "markdown",
   "id": "87a497cd",
   "metadata": {},
   "source": [
    "# linear regression analysis on group level: Ordinary Least Squares(OLS)"
   ]
  },
  {
   "cell_type": "code",
   "execution_count": 820,
   "id": "124e7baf",
   "metadata": {},
   "outputs": [],
   "source": [
    "# Assign the independent and dependent variables\n",
    "X = data[['Variance']]\n",
    "y = data[['Nodes']]\n",
    "\n",
    "# Split the data into train and test sets\n",
    "X_train, X_test, y_train, y_test = train_test_split(X, y, test_size=0.2, random_state=44)\n",
    "\n",
    "# Initialize the model\n",
    "reg = LinearRegression()\n",
    "\n",
    "# Fit the model to the train data\n",
    "reg.fit(X_train, y_train)\n",
    "\n",
    "# Predict the test data\n",
    "y_pred = reg.predict(X_test)\n",
    "\n",
    "# Fit the model using the statsmodel library\n",
    "model = sm.OLS(y_train, X_train)\n",
    "results = model.fit()\n",
    "\n",
    "# Print the summary of the model\n",
    "#print(results.summary())"
   ]
  },
  {
   "cell_type": "code",
   "execution_count": 821,
   "id": "44a6710a",
   "metadata": {},
   "outputs": [],
   "source": [
    "# Assign the independent and dependent variables\n",
    "X = data[['Variance']]\n",
    "y = data[['Task_fulfillment']]\n",
    "\n",
    "# Split the data into train and test sets\n",
    "X_train, X_test, y_train, y_test = train_test_split(X, y, test_size=0.2, random_state=77)\n",
    "\n",
    "# Initialize the model\n",
    "reg = LinearRegression()\n",
    "\n",
    "# Fit the model to the train data\n",
    "reg.fit(X_train, y_train)\n",
    "\n",
    "# Predict the test data\n",
    "y_pred = reg.predict(X_test)\n",
    "\n",
    "# Fit the model using the statsmodel library\n",
    "model = sm.OLS(y_train, X_train)\n",
    "results = model.fit()\n",
    "\n",
    "# Print the summary of the model\n",
    "#print(results.summary())"
   ]
  },
  {
   "cell_type": "code",
   "execution_count": 822,
   "id": "598204de",
   "metadata": {},
   "outputs": [],
   "source": [
    "# Assign the independent and dependent variables\n",
    "X = data[['Variance']]\n",
    "y = data[['Collaboration']]\n",
    "\n",
    "# Split the data into train and test sets\n",
    "X_train, X_test, y_train, y_test = train_test_split(X, y, test_size=0.2, random_state=77)\n",
    "\n",
    "# Initialize the model\n",
    "reg = LinearRegression()\n",
    "\n",
    "# Fit the model to the train data\n",
    "reg.fit(X_train, y_train)\n",
    "\n",
    "# Predict the test data\n",
    "y_pred = reg.predict(X_test)\n",
    "\n",
    "# Fit the model using the statsmodel library\n",
    "model = sm.OLS(y_train, X_train)\n",
    "results = model.fit()\n",
    "\n",
    "# Print the summary of the model\n",
    "#print(results.summary())"
   ]
  },
  {
   "cell_type": "markdown",
   "id": "3be90ae2",
   "metadata": {},
   "source": [
    "# linear regression analysis on individual level: Ordinary Least Squares(OLS)"
   ]
  },
  {
   "cell_type": "code",
   "execution_count": 824,
   "id": "55161bb6",
   "metadata": {},
   "outputs": [],
   "source": [
    "# Assign the independent and dependent variables\n",
    "X = individual_data[['Variance']]\n",
    "y = individual_data['Task_fulfillment']\n",
    "\n",
    "# Split the data into train and test sets\n",
    "X_train, X_test, y_train, y_test = train_test_split(X, y, test_size=0.2, random_state=44)\n",
    "\n",
    "# Initialize the model\n",
    "reg = LinearRegression()\n",
    "\n",
    "# Fit the model to the train data\n",
    "reg.fit(X_train, y_train)\n",
    "\n",
    "# Predict the test data\n",
    "y_pred = reg.predict(X_test)\n",
    "\n",
    "# Fit the model using the statsmodel library\n",
    "model = sm.OLS(y_train, X_train)\n",
    "results = model.fit()\n",
    "\n",
    "# Print the summary of the model\n",
    "#print(results.summary())"
   ]
  },
  {
   "cell_type": "code",
   "execution_count": 827,
   "id": "3202b05b",
   "metadata": {},
   "outputs": [],
   "source": [
    "# Assign the independent and dependent variables\n",
    "X = individual_data[['Variance']]\n",
    "y = individual_data['Collaboration']\n",
    "\n",
    "# Split the data into train and test sets\n",
    "X_train, X_test, y_train, y_test = train_test_split(X, y, test_size=0.2, random_state=100)\n",
    "\n",
    "# Initialize the model\n",
    "reg = LinearRegression()\n",
    "\n",
    "# Fit the model to the train data\n",
    "reg.fit(X_train, y_train)\n",
    "\n",
    "# Predict the test data\n",
    "y_pred = reg.predict(X_test)\n",
    "\n",
    "# Fit the model using the statsmodel library\n",
    "model = sm.OLS(y_train, X_train)\n",
    "results = model.fit()\n",
    "\n",
    "# Print the summary of the model\n",
    "#print(results.summary())"
   ]
  },
  {
   "cell_type": "code",
   "execution_count": 828,
   "id": "bc136696",
   "metadata": {},
   "outputs": [],
   "source": [
    "# Assign the independent and dependent variables\n",
    "X = individual_data[['Variance']]\n",
    "y = individual_data['Collaboration']\n",
    "\n",
    "# Split the data into train and test sets\n",
    "X_train, X_test, y_train, y_test = train_test_split(X, y, test_size=0.2, random_state=77)\n",
    "\n",
    "# Initialize the model\n",
    "reg = LinearRegression()\n",
    "\n",
    "# Fit the model to the train data\n",
    "reg.fit(X_train, y_train)\n",
    "\n",
    "# Predict the test data\n",
    "y_pred = reg.predict(X_test)\n",
    "\n",
    "# Fit the model using the statsmodel library\n",
    "model = sm.OLS(y_train, X_train)\n",
    "results = model.fit()\n",
    "\n",
    "# Print the summary of the model\n",
    "#print(results.summary())"
   ]
  },
  {
   "cell_type": "code",
   "execution_count": 1007,
   "id": "b2be3cee",
   "metadata": {},
   "outputs": [
    {
     "data": {
      "image/png": "[encoded data removed]",
      "text/plain": [
       "<Figure size 432x288 with 1 Axes>"
      ]
     },
     "metadata": {
      "needs_background": "light"
     },
     "output_type": "display_data"
    }
   ],
   "source": [
    "# Create a scatter plot\n",
    "plt.scatter(individual_data['variance'], individual_data['collaboration'])\n",
    "\n",
    "# Add the line of best fit\n",
    "plt.plot(individual_data['variance'], reg.predict(individual_data[['variance']]), color='red')\n",
    "\n",
    "# Add labels to the axes\n",
    "plt.xlabel('variance')\n",
    "plt.ylabel('collaboration')\n",
    "\n",
    "# Show the plot\n",
    "plt.show()"
   ]
  },
  {
   "cell_type": "code",
   "execution_count": 681,
   "id": "1424044e",
   "metadata": {},
   "outputs": [
    {
     "data": {
      "image/png": "[encoded data removed]",
      "text/plain": [
       "<Figure size 432x288 with 1 Axes>"
      ]
     },
     "metadata": {
      "needs_background": "light"
     },
     "output_type": "display_data"
    }
   ],
   "source": [
    "# Calculate the residuals using the same data that was used to fit the model\n",
    "residuals = individual_data['collaboration'] - reg.predict(individual_data[['variance']])\n",
    "\n",
    "# Create a scatter plot of the residuals\n",
    "plt.scatter(reg.predict(individual_data[['variance']]), residuals)\n",
    "\n",
    "# Add a line for zero residuals\n",
    "plt.axhline(y=0, color='black', linestyle='-')\n",
    "\n",
    "# Add labels to the axes\n",
    "plt.xlabel('Predicted values')\n",
    "plt.ylabel('Residuals')\n",
    "\n",
    "# Show the plot\n",
    "plt.show()"
   ]
  },
  {
   "cell_type": "markdown",
   "id": "eb2b0e73",
   "metadata": {},
   "source": [
    "# checking assumptions for regression models: Group level"
   ]
  },
  {
   "cell_type": "code",
   "execution_count": 829,
   "id": "13ab6ae6",
   "metadata": {
    "scrolled": false
   },
   "outputs": [
    {
     "data": {
      "image/png": "[encoded data removed]",
      "text/plain": [
       "<Figure size 432x288 with 3 Axes>"
      ]
     },
     "metadata": {
      "needs_background": "light"
     },
     "output_type": "display_data"
    },
    {
     "data": {
      "image/png": "[encoded data removed]",
      "text/plain": [
       "<Figure size 432x288 with 1 Axes>"
      ]
     },
     "metadata": {
      "needs_background": "light"
     },
     "output_type": "display_data"
    },
    {
     "data": {
      "image/png": "[encoded data removed]",
      "text/plain": [
       "<Figure size 432x288 with 1 Axes>"
      ]
     },
     "metadata": {
      "needs_background": "light"
     },
     "output_type": "display_data"
    },
    {
     "data": {
      "image/png": "[encoded data removed]",
      "text/plain": [
       "<Figure size 432x288 with 1 Axes>"
      ]
     },
     "metadata": {
      "needs_background": "light"
     },
     "output_type": "display_data"
    }
   ],
   "source": [
    "# check for normality\n",
    "# histograms and Q-Q plots\n",
    "data[['Collaboration', 'Task_fulfillment', 'Nodes']].plot(kind='density', subplots=True, layout=(3,1), sharex=False)\n",
    "plt.show()\n",
    "\n",
    "# check for linearity\n",
    "sns.regplot(x='Variance', y='Collaboration', data=data)\n",
    "plt.show()\n",
    "sns.regplot(x='Variance', y='Task_fulfillment', data=data)\n",
    "plt.show()\n",
    "sns.regplot(x='Variance', y='Nodes', data=data)\n",
    "plt.show()"
   ]
  },
  {
   "cell_type": "code",
   "execution_count": 830,
   "id": "d0d1c202",
   "metadata": {
    "scrolled": false
   },
   "outputs": [
    {
     "name": "stderr",
     "output_type": "stream",
     "text": [
      "/Users/dianakozachek/opt/anaconda3/lib/python3.8/site-packages/statsmodels/tsa/tsatools.py:142: FutureWarning:\n",
      "\n",
      "In a future version of pandas all arguments of concat except for the argument 'objs' will be keyword-only\n",
      "\n",
      "/Users/dianakozachek/opt/anaconda3/lib/python3.8/site-packages/statsmodels/graphics/gofplots.py:993: UserWarning:\n",
      "\n",
      "marker is redundantly defined by the 'marker' keyword argument and the fmt string \"bo\" (-> marker='o'). The keyword argument will take precedence.\n",
      "\n"
     ]
    },
    {
     "data": {
      "image/png": "[encoded data removed]",
      "text/plain": [
       "<Figure size 432x288 with 1 Axes>"
      ]
     },
     "metadata": {
      "needs_background": "light"
     },
     "output_type": "display_data"
    },
    {
     "name": "stderr",
     "output_type": "stream",
     "text": [
      "/Users/dianakozachek/opt/anaconda3/lib/python3.8/site-packages/statsmodels/graphics/gofplots.py:993: UserWarning:\n",
      "\n",
      "marker is redundantly defined by the 'marker' keyword argument and the fmt string \"bo\" (-> marker='o'). The keyword argument will take precedence.\n",
      "\n"
     ]
    },
    {
     "data": {
      "image/png": "[encoded data removed]",
      "text/plain": [
       "<Figure size 432x288 with 1 Axes>"
      ]
     },
     "metadata": {
      "needs_background": "light"
     },
     "output_type": "display_data"
    },
    {
     "name": "stderr",
     "output_type": "stream",
     "text": [
      "/Users/dianakozachek/opt/anaconda3/lib/python3.8/site-packages/statsmodels/graphics/gofplots.py:993: UserWarning:\n",
      "\n",
      "marker is redundantly defined by the 'marker' keyword argument and the fmt string \"bo\" (-> marker='o'). The keyword argument will take precedence.\n",
      "\n"
     ]
    },
    {
     "data": {
      "image/png": "[encoded data removed]",
      "text/plain": [
       "<Figure size 432x288 with 1 Axes>"
      ]
     },
     "metadata": {
      "needs_background": "light"
     },
     "output_type": "display_data"
    }
   ],
   "source": [
    "x = data[['Variance']] # independent variable\n",
    "y = data[['Collaboration', 'Task_fulfillment', 'Nodes']] # dependent variables\n",
    "x = sm.add_constant(x) # add constant for the model\n",
    "\n",
    "# fit the model for collaboration\n",
    "results_collaboration = sm.OLS(y['Collaboration'], x).fit()\n",
    "# fit for taskfulfillment\n",
    "results_taskfulfillment = sm.OLS(y['Task_fulfillment'], x).fit()\n",
    "# fit for nodes\n",
    "results_nodes = sm.OLS(y['Nodes'], x).fit()\n",
    "\n",
    "# check for normality for collaboration\n",
    "fig = sm.graphics.qqplot(results_collaboration.resid, dist=stats.norm, line='45', fit=True)\n",
    "plt.title(\"Quantil-Quantil-Plots: collaboration\", fontsize=12, fontweight='bold')\n",
    "plt.show()\n",
    "\n",
    "# check for normality for taskfulfillment\n",
    "fig = sm.graphics.qqplot(results_taskfulfillment.resid, dist=stats.norm, line='45', fit=True)\n",
    "plt.title(\"Quantil-Quantil-Plots: taskfulfillment\", fontsize=12, fontweight='bold')\n",
    "plt.show()\n",
    "\n",
    "# check for normality for nodes\n",
    "fig = sm.graphics.qqplot(results_nodes.resid, dist=stats.norm, line='45', fit=True)\n",
    "plt.title(\"Quantil-Quantil-Plots: nodes\", fontsize=12, fontweight='bold')\n",
    "plt.show()"
   ]
  },
  {
   "cell_type": "code",
   "execution_count": 1009,
   "id": "583f8542",
   "metadata": {},
   "outputs": [],
   "source": [
    "#print(results_collaboration.summary())\n",
    "#print(results_taskfulfillment.summary())\n",
    "#print(results_nodes.summary())"
   ]
  },
  {
   "cell_type": "markdown",
   "id": "e6255833",
   "metadata": {},
   "source": [
    "# checking assumptions for regression models: individual level"
   ]
  },
  {
   "cell_type": "code",
   "execution_count": 831,
   "id": "c1cf441b",
   "metadata": {},
   "outputs": [
    {
     "name": "stderr",
     "output_type": "stream",
     "text": [
      "/Users/dianakozachek/opt/anaconda3/lib/python3.8/site-packages/statsmodels/tsa/tsatools.py:142: FutureWarning:\n",
      "\n",
      "In a future version of pandas all arguments of concat except for the argument 'objs' will be keyword-only\n",
      "\n",
      "/Users/dianakozachek/opt/anaconda3/lib/python3.8/site-packages/statsmodels/graphics/gofplots.py:993: UserWarning:\n",
      "\n",
      "marker is redundantly defined by the 'marker' keyword argument and the fmt string \"bo\" (-> marker='o'). The keyword argument will take precedence.\n",
      "\n"
     ]
    },
    {
     "data": {
      "image/png": "[encoded data removed]",
      "text/plain": [
       "<Figure size 432x288 with 1 Axes>"
      ]
     },
     "metadata": {
      "needs_background": "light"
     },
     "output_type": "display_data"
    },
    {
     "name": "stderr",
     "output_type": "stream",
     "text": [
      "/Users/dianakozachek/opt/anaconda3/lib/python3.8/site-packages/statsmodels/graphics/gofplots.py:993: UserWarning:\n",
      "\n",
      "marker is redundantly defined by the 'marker' keyword argument and the fmt string \"bo\" (-> marker='o'). The keyword argument will take precedence.\n",
      "\n"
     ]
    },
    {
     "data": {
      "image/png": "[encoded data removed]",
      "text/plain": [
       "<Figure size 432x288 with 1 Axes>"
      ]
     },
     "metadata": {
      "needs_background": "light"
     },
     "output_type": "display_data"
    },
    {
     "name": "stderr",
     "output_type": "stream",
     "text": [
      "/Users/dianakozachek/opt/anaconda3/lib/python3.8/site-packages/statsmodels/graphics/gofplots.py:993: UserWarning:\n",
      "\n",
      "marker is redundantly defined by the 'marker' keyword argument and the fmt string \"bo\" (-> marker='o'). The keyword argument will take precedence.\n",
      "\n"
     ]
    },
    {
     "data": {
      "image/png": "[encoded data removed]",
      "text/plain": [
       "<Figure size 432x288 with 1 Axes>"
      ]
     },
     "metadata": {
      "needs_background": "light"
     },
     "output_type": "display_data"
    }
   ],
   "source": [
    "x = individual_data[['Variance']] # independent variable\n",
    "y = individual_data[['Collaboration', 'Task_fulfillment', 'Nodes']] # dependent variables\n",
    "x = sm.add_constant(x) # add constant for the model\n",
    "\n",
    "# fit the model for collaboration\n",
    "results_collaboration = sm.OLS(y['Collaboration'], x).fit()\n",
    "# fit for taskfulfillment\n",
    "results_taskfulfillment = sm.OLS(y['Task_fulfillment'], x).fit()\n",
    "# fit for nodes\n",
    "results_nodes = sm.OLS(y['Nodes'], x).fit()\n",
    "\n",
    "# check for normality for collaboration\n",
    "fig = sm.graphics.qqplot(results_collaboration.resid, dist=stats.norm, line='45', fit=True)\n",
    "plt.title(\"Quantil-Quantil-Plots: collaboration\", fontsize=12, fontweight='bold')\n",
    "plt.show()\n",
    "\n",
    "# check for normality for taskfulfillment\n",
    "fig = sm.graphics.qqplot(results_taskfulfillment.resid, dist=stats.norm, line='45', fit=True)\n",
    "plt.title(\"Quantil-Quantil-Plots: taskfulfillment\", fontsize=12, fontweight='bold')\n",
    "plt.show()\n",
    "\n",
    "# check for normality for nodes\n",
    "fig = sm.graphics.qqplot(results_nodes.resid, dist=stats.norm, line='45', fit=True)\n",
    "plt.title(\"Quantil-Quantil-Plots: nodes\", fontsize=12, fontweight='bold')\n",
    "plt.show()"
   ]
  },
  {
   "cell_type": "code",
   "execution_count": 568,
   "id": "817f480a",
   "metadata": {},
   "outputs": [
    {
     "data": {
      "image/png": "[encoded data removed]",
      "text/plain": [
       "<Figure size 432x288 with 3 Axes>"
      ]
     },
     "metadata": {
      "needs_background": "light"
     },
     "output_type": "display_data"
    },
    {
     "data": {
      "image/png": "[encoded data removed]",
      "text/plain": [
       "<Figure size 432x288 with 1 Axes>"
      ]
     },
     "metadata": {
      "needs_background": "light"
     },
     "output_type": "display_data"
    },
    {
     "data": {
      "image/png": "[encoded data removed]",
      "text/plain": [
       "<Figure size 432x288 with 1 Axes>"
      ]
     },
     "metadata": {
      "needs_background": "light"
     },
     "output_type": "display_data"
    },
    {
     "data": {
      "image/png": "[encoded data removed]",
      "text/plain": [
       "<Figure size 432x288 with 1 Axes>"
      ]
     },
     "metadata": {
      "needs_background": "light"
     },
     "output_type": "display_data"
    }
   ],
   "source": [
    "# check for normality and Q-Q plots\n",
    "individual_data[['Collaboration', 'Task_fulfillment', 'Nodes']].plot(kind='density', subplots=True, layout=(3,1), sharex=False)\n",
    "plt.show()\n",
    "\n",
    "# check for linearity\n",
    "sns.regplot(x='Variance', y='Collaboration', data=individual_data)\n",
    "plt.show()\n",
    "sns.regplot(x='Variance', y='Task_fulfillment', data=individual_data)\n",
    "plt.show()\n",
    "sns.regplot(x='Variance', y='Nodes', data=individual_data)\n",
    "plt.show()"
   ]
  },
  {
   "cell_type": "code",
   "execution_count": 1010,
   "id": "214f7cbb",
   "metadata": {},
   "outputs": [],
   "source": [
    "#print(results_collaboration.summary())\n",
    "#print(results_taskfulfillment.summary())\n",
    "#print(results_nodes.summary())"
   ]
  },
  {
   "cell_type": "markdown",
   "id": "b6958157",
   "metadata": {},
   "source": [
    "# Significance Testing"
   ]
  },
  {
   "cell_type": "code",
   "execution_count": 121,
   "id": "33a8add1",
   "metadata": {},
   "outputs": [],
   "source": [
    "data = pd.read_csv('variance_and_performance.csv')\n",
    "#data"
   ]
  },
  {
   "cell_type": "code",
   "execution_count": 114,
   "id": "f9394a0b",
   "metadata": {},
   "outputs": [],
   "source": [
    "from scipy.stats import shapiro"
   ]
  },
  {
   "cell_type": "code",
   "execution_count": 115,
   "id": "8ba31d26",
   "metadata": {},
   "outputs": [
    {
     "name": "stdout",
     "output_type": "stream",
     "text": [
      "Data is normally distributed\n",
      "Shapiro-Wilk test: stat = 0.8697, p-value = 0.0768\n"
     ]
    }
   ],
   "source": [
    "#check if data normally distributed (will determine whether t-test or wilcoxon test for significance)\n",
    "stat, p = shapiro(data['Standard_Deviation'])\n",
    "\n",
    "if p > 0.05:\n",
    "    print('Data is normally distributed')\n",
    "else:\n",
    "    print('Data is not look normally distributed')\n",
    "\n",
    "print(f\"Shapiro-Wilk test: stat = {stat:.4f}, p-value = {p:.4f}\")"
   ]
  },
  {
   "cell_type": "markdown",
   "id": "bd422bb9",
   "metadata": {},
   "source": [
    "The t-statistic measures the difference between the means of the two groups relative to the variability within the groups, the p-value tells you the probability of observing such a difference if there were no real difference between the groups."
   ]
  },
  {
   "cell_type": "code",
   "execution_count": 116,
   "id": "13e3dc61",
   "metadata": {},
   "outputs": [
    {
     "name": "stdout",
     "output_type": "stream",
     "text": [
      "t-statistic: 10.4065, p-value: 0.0000\n"
     ]
    }
   ],
   "source": [
    "variance_data = data['Variance'].values\n",
    "\n",
    "# Perform one-sample t-test with null hypothesis that mean = 0\n",
    "t_statistic, p_value = stats.ttest_1samp(variance_data, 0)\n",
    "\n",
    "print(f\"t-statistic: {t_statistic:.4f}, p-value: {p_value:.4f}\")"
   ]
  },
  {
   "cell_type": "code",
   "execution_count": 117,
   "id": "ba845692",
   "metadata": {},
   "outputs": [
    {
     "name": "stdout",
     "output_type": "stream",
     "text": [
      "t-statistic: 2.0897, p-value: 0.0632\n"
     ]
    }
   ],
   "source": [
    "mean_data = data['Mean'].values\n",
    "\n",
    "# Perform one-sample t-test with null hypothesis that mean = 0\n",
    "t_statistic, p_value = stats.ttest_1samp(mean_data, 0)\n",
    "\n",
    "print(f\"t-statistic: {t_statistic:.4f}, p-value: {p_value:.4f}\")"
   ]
  },
  {
   "cell_type": "code",
   "execution_count": 118,
   "id": "634a5d87",
   "metadata": {},
   "outputs": [
    {
     "name": "stdout",
     "output_type": "stream",
     "text": [
      "t-statistic: 18.3402, p-value: 0.0000\n"
     ]
    }
   ],
   "source": [
    "std_data = data['Standard_Deviation'].values\n",
    "\n",
    "# Perform one-sample t-test with null hypothesis that mean = 0\n",
    "t_statistic, p_value = stats.ttest_1samp(std_data, 0)\n",
    "\n",
    "print(f\"t-statistic: {t_statistic:.4f}, p-value: {p_value:.4f}\")"
   ]
  },
  {
   "cell_type": "code",
   "execution_count": 119,
   "id": "9eed5ec6",
   "metadata": {},
   "outputs": [
    {
     "name": "stdout",
     "output_type": "stream",
     "text": [
      "t-statistic: 6.0467, p-value: 0.0001\n"
     ]
    }
   ],
   "source": [
    "collab_data = data['Collaboration'].values\n",
    "\n",
    "# Perform one-sample t-test with null hypothesis that mean = 0\n",
    "t_statistic, p_value = stats.ttest_1samp(collab_data, 0)\n",
    "\n",
    "print(f\"t-statistic: {t_statistic:.4f}, p-value: {p_value:.4f}\")"
   ]
  },
  {
   "cell_type": "code",
   "execution_count": 120,
   "id": "a6579d06",
   "metadata": {},
   "outputs": [
    {
     "name": "stdout",
     "output_type": "stream",
     "text": [
      "t-statistic: 8.9952, p-value: 0.0000\n"
     ]
    }
   ],
   "source": [
    "node_data = data['Nodes'].values\n",
    "\n",
    "# Perform one-sample t-test with null hypothesis that mean = 0\n",
    "t_statistic, p_value = stats.ttest_1samp(node_data, 0)\n",
    "\n",
    "print(f\"t-statistic: {t_statistic:.4f}, p-value: {p_value:.4f}\")"
   ]
  },
  {
   "cell_type": "code",
   "execution_count": null,
   "id": "39da55a0",
   "metadata": {},
   "outputs": [],
   "source": []
  },
  {
   "cell_type": "markdown",
   "id": "6ae3addb",
   "metadata": {},
   "source": [
    "# Export"
   ]
  },
  {
   "cell_type": "code",
   "execution_count": 181,
   "id": "8730cb4a",
   "metadata": {},
   "outputs": [],
   "source": [
    "#results_df.to_csv('mixed_effects_regression_results.csv', index=True)"
   ]
  }
 ],
 "metadata": {
  "kernelspec": {
   "display_name": "Python 3 (ipykernel)",
   "language": "python",
   "name": "python3"
  },
  "language_info": {
   "codemirror_mode": {
    "name": "ipython",
    "version": 3
   },
   "file_extension": ".py",
   "mimetype": "text/x-python",
   "name": "python",
   "nbconvert_exporter": "python",
   "pygments_lexer": "ipython3",
   "version": "3.8.12"
  }
 },
 "nbformat": 4,
 "nbformat_minor": 5
}
