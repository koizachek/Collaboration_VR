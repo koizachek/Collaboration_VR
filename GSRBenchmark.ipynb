{
 "cells": [
  {
   "cell_type": "code",
   "execution_count": 1,
   "id": "cb96cfeb",
   "metadata": {},
   "outputs": [],
   "source": [
    "import pandas as pd\n",
    "\n",
    "# List to store the GSR data from each CSV file\n",
    "gsr_data = []\n",
    "\n",
    "# Read in the data from each CSV file and store the GSR data in the list\n",
    "for i in range(1, 25):\n",
    "    df = pd.read_csv(f\"./Normal/gsrdata_{i}.csv\")\n",
    "    gsr_data.append(df[\"GSR\"])\n",
    "\n",
    "# Calculate the average GSR value\n",
    "average_gsr = sum(gsr_data) / len(gsr_data)\n",
    "\n",
    "# Write the average GSR data to a new CSV file\n",
    "average_df = pd.DataFrame({\"GSR\": average_gsr})\n",
    "average_df.to_csv(\"average_gsr.csv\", index=False)"
   ]
  },
  {
   "cell_type": "code",
   "execution_count": null,
   "id": "f00526fc",
   "metadata": {},
   "outputs": [],
   "source": []
  }
 ],
 "metadata": {
  "kernelspec": {
   "display_name": "Python 3 (ipykernel)",
   "language": "python",
   "name": "python3"
  },
  "language_info": {
   "codemirror_mode": {
    "name": "ipython",
    "version": 3
   },
   "file_extension": ".py",
   "mimetype": "text/x-python",
   "name": "python",
   "nbconvert_exporter": "python",
   "pygments_lexer": "ipython3",
   "version": "3.8.12"
  }
 },
 "nbformat": 4,
 "nbformat_minor": 5
}
