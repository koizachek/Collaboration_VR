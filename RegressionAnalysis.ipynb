{
 "cells": [
  {
   "cell_type": "code",
   "execution_count": null,
   "id": "4c7052f1",
   "metadata": {},
   "outputs": [],
   "source": [
    "import statsmodels.api as sm\n",
    "import statsmodels.formula.api as smf\n",
    "import pandas as pd"
   ]
  },
  {
   "cell_type": "code",
   "execution_count": null,
   "id": "09794b31",
   "metadata": {},
   "outputs": [],
   "source": [
    "#read files from the group results (or individual resutls)\n",
    "\n",
    "filenames = ['group1.csv', 'group2.csv', 'group3.csv']\n",
    "dfs = []\n",
    "for filename in filenames:\n",
    "    df = pd.read_csv(filename)\n",
    "    dfs.append(df)\n",
    "    \n",
    "data = pd.concat(dfs, ignore_index=True)"
   ]
  },
  {
   "cell_type": "code",
   "execution_count": null,
   "id": "ffb4acd0",
   "metadata": {},
   "outputs": [],
   "source": [
    "'''in this example, our regression analysis with random effects needs a formula that represents beta, y and x\n",
    "this could look like this:'''\n",
    "\n",
    "#formula = 'performance ~ biophysical_data + (1 | group)'\n",
    "formula = 'y ~ x1 + x2 + x3 + (1 | x1) + (1 | x2) + (1 | x3)'"
   ]
  },
  {
   "cell_type": "code",
   "execution_count": null,
   "id": "d45d552c",
   "metadata": {},
   "outputs": [],
   "source": [
    "model = smf.mixedlm(formula, data)\n",
    "result = model.fit()"
   ]
  },
  {
   "cell_type": "code",
   "execution_count": null,
   "id": "795b3e65",
   "metadata": {},
   "outputs": [],
   "source": [
    "print(result.summary())"
   ]
  },
  {
   "cell_type": "code",
   "execution_count": null,
   "id": "e5688fb7",
   "metadata": {},
   "outputs": [],
   "source": []
  }
 ],
 "metadata": {
  "kernelspec": {
   "display_name": "Python 3 (ipykernel)",
   "language": "python",
   "name": "python3"
  },
  "language_info": {
   "codemirror_mode": {
    "name": "ipython",
    "version": 3
   },
   "file_extension": ".py",
   "mimetype": "text/x-python",
   "name": "python",
   "nbconvert_exporter": "python",
   "pygments_lexer": "ipython3",
   "version": "3.8.12"
  }
 },
 "nbformat": 4,
 "nbformat_minor": 5
}
