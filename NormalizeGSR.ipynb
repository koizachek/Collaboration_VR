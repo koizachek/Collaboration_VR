{
 "cells": [
  {
   "cell_type": "code",
   "execution_count": null,
   "id": "06ee1ae3",
   "metadata": {},
   "outputs": [],
   "source": [
    "import pandas as pd\n",
    "from sklearn.preprocessing import StandardScaler"
   ]
  },
  {
   "cell_type": "code",
   "execution_count": null,
   "id": "4b907510",
   "metadata": {},
   "outputs": [],
   "source": [
    "log_data = pd.read_csv(\"heregoesthedata\")\n",
    "\n",
    "# Convert the log data into time series data\n",
    "log_data['timestamp'] = pd.to_datetime(log_data['timestamp'])\n",
    "log_data.set_index('timestamp', inplace=True)\n",
    "\n",
    "print(log_data)\n",
    "\n",
    "# Create StandardScaler\n",
    "scaler = StandardScaler()\n",
    "\n",
    "# Fit scaler\n",
    "scaler.fit(log_data)\n",
    "\n",
    "# Transform time series using the scaler\n",
    "normalized_data = scaler.transform(log_data)"
   ]
  },
  {
   "cell_type": "code",
   "execution_count": null,
   "id": "6b0bf31d",
   "metadata": {},
   "outputs": [],
   "source": [
    "print(normalized_data)"
   ]
  },
  {
   "cell_type": "code",
   "execution_count": null,
   "id": "10b3575c",
   "metadata": {},
   "outputs": [],
   "source": [
    "# Convert the normalized data back to a data frame\n",
    "normalized_data = pd.DataFrame(normalized_data, columns=log_data.columns)"
   ]
  },
  {
   "cell_type": "code",
   "execution_count": null,
   "id": "09f7ee4b",
   "metadata": {},
   "outputs": [],
   "source": [
    "# Write the normalized data to a new CSV file\n",
    "normalized_data.to_csv(\"normalized_gsrdata.csv\", index=True)"
   ]
  },
  {
   "cell_type": "code",
   "execution_count": null,
   "id": "97a04d72",
   "metadata": {},
   "outputs": [],
   "source": []
  }
 ],
 "metadata": {
  "kernelspec": {
   "display_name": "Python 3 (ipykernel)",
   "language": "python",
   "name": "python3"
  },
  "language_info": {
   "codemirror_mode": {
    "name": "ipython",
    "version": 3
   },
   "file_extension": ".py",
   "mimetype": "text/x-python",
   "name": "python",
   "nbconvert_exporter": "python",
   "pygments_lexer": "ipython3",
   "version": "3.8.12"
  }
 },
 "nbformat": 4,
 "nbformat_minor": 5
}
